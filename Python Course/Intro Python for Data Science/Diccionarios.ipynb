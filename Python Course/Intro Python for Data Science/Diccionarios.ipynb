{
 "cells": [
  {
   "cell_type": "markdown",
   "metadata": {},
   "source": [
    "## Razones para los diccionarios\n",
    "Para ver por qué los diccionarios son útiles, echa un vistazo a las dos listas definidas en el script. countries contiene los nombres de algunos países europeos. capitals enumera los nombres correspondientes a sus capitales."
   ]
  },
  {
   "cell_type": "code",
   "execution_count": 1,
   "metadata": {},
   "outputs": [
    {
     "name": "stdout",
     "output_type": "stream",
     "text": [
      "berlin\n"
     ]
    }
   ],
   "source": [
    "# Definición de países y capitales\n",
    "countries = ['spain', 'france', 'germany', 'norway']\n",
    "capitals = ['madrid', 'paris', 'berlin', 'oslo']\n",
    "\n",
    "# Obtén el índice de 'germany': ind_ger\n",
    "ind_ger = countries.index(\"germany\")\n",
    "\n",
    "# Usa ind_ger para imprimir la capital de Alemania\n",
    "print(capitals[ind_ger])"
   ]
  },
  {
   "cell_type": "markdown",
   "metadata": {},
   "source": [
    "## Crea un diccionario\n",
    "Las listas ```countries``` y ```capitals``` vuelven a estar disponibles en el script. Tu trabajo consiste en convertir estos datos en un diccionario en el que los nombres de los países sean las claves y las capitales los valores correspondientes. Como repaso, aquí hay una receta para crear un diccionario:\n",
    "```python\n",
    "my_dict = {\n",
    "\"key1\":\"value1\",\n",
    "\"key2\":\"value2\",\n",
    "}\n",
    "```\n",
    "En esta receta, tanto las claves como los valores son ```strings```. Este también será el caso de este ejercicio."
   ]
  },
  {
   "cell_type": "code",
   "execution_count": 2,
   "metadata": {},
   "outputs": [
    {
     "name": "stdout",
     "output_type": "stream",
     "text": [
      "{'spain': 'madrid', 'france': 'paris', 'germany': 'berlin', 'norway': 'oslo'}\n"
     ]
    }
   ],
   "source": [
    "# Definición de países y capitales\n",
    "countries = ['spain', 'france', 'germany', 'norway']\n",
    "capitals = ['madrid', 'paris', 'berlin', 'oslo']\n",
    "\n",
    "# A partir de un string en countries y capitals, crea un diccionario europe\n",
    "europe = {'spain':'madrid', \"france\": \"paris\", \"germany\": \"berlin\", \"norway\": \"oslo\"}\n",
    "\n",
    "# Imprime europe\n",
    "print(europe)"
   ]
  },
  {
   "cell_type": "markdown",
   "metadata": {},
   "source": [
    "## Accede al diccionario\n",
    "Si las claves ```(keys)``` de un diccionario se eligen con inteligencia, acceder a los valores del diccionario es fácil e intuitivo. Por ejemplo, para obtener la capital de Francia utilizando europe, puedes usar:\n",
    "```python \n",
    "europe['france']\n",
    "```\n",
    "Aquí, ```'france'``` es la clave y ```'paris'``` el valor que devuelve."
   ]
  },
  {
   "cell_type": "code",
   "execution_count": 4,
   "metadata": {},
   "outputs": [
    {
     "name": "stdout",
     "output_type": "stream",
     "text": [
      "Llaves del diccionario:  dict_keys(['spain', 'france', 'germany', 'norway'])\n",
      "oslo\n"
     ]
    }
   ],
   "source": [
    "# Definición de diccionario\n",
    "europe = {'spain':'madrid', 'france':'paris', 'germany':'berlin', 'norway':'oslo' }\n",
    "\n",
    "# Imprime las llaves en europe\n",
    "print(\"Llaves del diccionario: \", europe.keys())\n",
    "\n",
    "# Imprime el valor que pertenece a la clave 'norway'\n",
    "print(europe[\"norway\"])"
   ]
  },
  {
   "cell_type": "markdown",
   "metadata": {},
   "source": [
    "## Manipulación de diccionarios (1)\n",
    "Si sabes cómo acceder a un diccionario, también puedes asignarle un nuevo valor. Para añadir un nuevo par clave-valor a ```europe```, puedes usar algo como esto:\n",
    "```python\n",
    "europe['iceland'] = 'reykjavik'\n",
    "```"
   ]
  },
  {
   "cell_type": "code",
   "execution_count": 6,
   "metadata": {},
   "outputs": [
    {
     "name": "stdout",
     "output_type": "stream",
     "text": [
      "True\n",
      "{'spain': 'madrid', 'france': 'paris', 'germany': 'berlin', 'norway': 'oslo', 'italy': 'rome', 'poland': 'warsaw'}\n"
     ]
    }
   ],
   "source": [
    "# Definición de diccionario\n",
    "europe = {'spain':'madrid', 'france':'paris', 'germany':'berlin', 'norway':'oslo' }\n",
    "\n",
    "# Añade italy a europe\n",
    "europe[\"italy\"] = \"rome\"\n",
    "\n",
    "# Imprime italy en europe\n",
    "print(\"italy\" in europe)\n",
    "\n",
    "# Añade poland a europe\n",
    "europe[\"poland\"] = \"warsaw\"\n",
    "\n",
    "# Imprime europe\n",
    "print(europe)"
   ]
  },
  {
   "cell_type": "markdown",
   "metadata": {},
   "source": [
    "## Manipulación de diccionarios (2)\n",
    "Alguien pensó que sería divertido estropear tu diccionario generado con precisión. En el código está disponible una versión adaptada del diccionario ```europe```.\n",
    "\n",
    "¿Puedes limpiar? No lo hagas adaptando la definición de ```europe```, sino añadiendo comandos de Python al script para actualizar y eliminar los pares clave:valor."
   ]
  },
  {
   "cell_type": "code",
   "execution_count": 7,
   "metadata": {},
   "outputs": [
    {
     "name": "stdout",
     "output_type": "stream",
     "text": [
      "{'spain': 'madrid', 'france': 'paris', 'germany': 'berlin', 'norway': 'oslo', 'italy': 'rome', 'poland': 'warsaw'}\n"
     ]
    }
   ],
   "source": [
    "# Definición de diccionario\n",
    "europe = {'spain':'madrid', 'france':'paris', 'germany':'bonn',\n",
    "          'norway':'oslo', 'italy':'rome', 'poland':'warsaw',\n",
    "          'australia':'vienna' }\n",
    "\n",
    "# Cambia la capital de Alemania\n",
    "europe[\"germany\"] = \"berlin\"\n",
    "\n",
    "# Elimina australia\n",
    "del(europe[\"australia\"])\n",
    "\n",
    "# Imprime europe\n",
    "print(europe)"
   ]
  },
  {
   "cell_type": "markdown",
   "metadata": {},
   "source": [
    "## Dictionariception\n",
    "¿Recuerdas las listas? Pueden contener cualquier cosa, incluso otras listas. Bueno, para los diccionarios ocurre lo mismo. Los diccionarios pueden contener pares clave:valor en los que los valores vuelven a ser diccionarios.\n",
    "\n",
    "Como ejemplo, echa un vistazo al código en el que está codificada otra versión de ```europe```, el diccionario con el que has estado trabajando todo el tiempo. Las claves siguen siendo los nombres de los países, pero los valores son diccionarios que contienen más información que solo la capital.\n",
    "\n",
    "Es perfectamente posible encadenar corchetes para seleccionar elementos. Para obtener la población de España de ```europe```, por ejemplo, tú necesitas\n",
    "```python\n",
    "europe['spain']['population']\n",
    "```"
   ]
  },
  {
   "cell_type": "code",
   "execution_count": 8,
   "metadata": {},
   "outputs": [
    {
     "name": "stdout",
     "output_type": "stream",
     "text": [
      "paris\n",
      "{'spain': {'capital': 'madrid', 'population': 46.77}, 'france': {'capital': 'paris', 'population': 66.03}, 'germany': {'capital': 'berlin', 'population': 80.62}, 'norway': {'capital': 'oslo', 'population': 5.084}, 'italy': {'capital': 'rome', 'population': 59.83}}\n"
     ]
    }
   ],
   "source": [
    "# Diccionario de diccionarios\n",
    "europe = { 'spain': { 'capital':'madrid', 'population':46.77 },\n",
    "           'france': { 'capital':'paris', 'population':66.03 },\n",
    "           'germany': { 'capital':'berlin', 'population':80.62 },\n",
    "           'norway': { 'capital':'oslo', 'population':5.084 } }\n",
    "\n",
    "\n",
    "# Imprime la capital de Francia\n",
    "print(europe[\"france\"][\"capital\"])\n",
    "\n",
    "# Crea los datos del sub-diccionario\n",
    "data = {\"capital\" : \"rome\", \"population\" : 59.83}\n",
    "\n",
    "# Añada datos a Europa con la clave 'italy'\n",
    "europe[\"italy\"] = data\n",
    "\n",
    "# Imprime europe\n",
    "print(europe)"
   ]
  }
 ],
 "metadata": {
  "kernelspec": {
   "display_name": "Python 3",
   "language": "python",
   "name": "python3"
  },
  "language_info": {
   "codemirror_mode": {
    "name": "ipython",
    "version": 3
   },
   "file_extension": ".py",
   "mimetype": "text/x-python",
   "name": "python",
   "nbconvert_exporter": "python",
   "pygments_lexer": "ipython3",
   "version": "3.10.10"
  }
 },
 "nbformat": 4,
 "nbformat_minor": 2
}
