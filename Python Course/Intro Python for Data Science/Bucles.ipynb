{
 "cells": [
  {
   "cell_type": "markdown",
   "metadata": {},
   "source": [
    "## while: calentamiento\n",
    "El bucle ```«while»``` es como una secuencia de ```«if»``` repetida. El código se ejecuta una y otra vez, siempre y cuando la condición sea ```True```. Echa otro vistazo a tu receta.\n",
    "```python\n",
    "while condition :\n",
    "expression\n",
    "```\n",
    "¿Puedes saber cuántas impresiones hará el siguiente bucle ```while```?\n",
    "```python\n",
    "x = 1\n",
    "while x < 4 :\n",
    "print(x)\n",
    "x = x + 1\n",
    "```\n",
    "\n",
    "R/ ```3```"
   ]
  },
  {
   "cell_type": "markdown",
   "metadata": {},
   "source": [
    "```while loop básico```\n",
    "A continuación puedes encontrar el ejemplo del video donde la variable ```error```, inicialmente igual a 50.0, se divide por 4 y se imprime en cada iteración:\n",
    "```python\n",
    "error = 50,0\n",
    "while error > 1 :\n",
    "error = error / 4\n",
    "print(error)\n",
    "```\n",
    "Este ejemplo será útil, porque es hora de construir un bucle ```while``` tú mismo! Vamos a codificar un bucle ```while``` que implementa un sistema de control muy básico para un péndulo invertido. Si hay un desplazamiento vs. el estado perfectamente recto, el bucle ```while``` fijará gradualmente este desplazamiento.\n",
    "\n",
    "Ten en cuenta que si tu bucle ```while``` tarda demasiado en ejecutarse, podrías haber cometido un error. En particular, recuerda sangrar el contenido del bucle utilizando cuatro espacios o auto-sangrado!"
   ]
  },
  {
   "cell_type": "code",
   "execution_count": 1,
   "metadata": {},
   "outputs": [
    {
     "name": "stdout",
     "output_type": "stream",
     "text": [
      "correcting...\n",
      "7\n",
      "correcting...\n",
      "6\n",
      "correcting...\n",
      "5\n",
      "correcting...\n",
      "4\n",
      "correcting...\n",
      "3\n",
      "correcting...\n",
      "2\n",
      "correcting...\n",
      "1\n",
      "correcting...\n",
      "0\n"
     ]
    }
   ],
   "source": [
    "# Inicializar offset\n",
    "offset = 8\n",
    "\n",
    "# Código del bucle while\n",
    "while offset != 0:\n",
    "    print(\"correcting...\")\n",
    "    offset -= 1\n",
    "    print(offset)"
   ]
  },
  {
   "cell_type": "markdown",
   "metadata": {},
   "source": [
    "## Loop con una lista\n",
    "Echa otro vistazo al bucle ```for``` que Hugo mostró en el video:\n",
    "```python\n",
    "fam = [1.73, 1.68, 1.71, 1.89]\n",
    "for height in fam : \n",
    "print(height)\n",
    "```\n",
    "Como de costumbre, simplemente tienes que sangrar el código con 4 espacios para decirle a Python qué código se debe ejecutar en el bucle ```for```.\n",
    "\n",
    "La variable ```areas```, que contiene el área de diferentes habitaciones en su casa, ya está definida."
   ]
  },
  {
   "cell_type": "code",
   "execution_count": 2,
   "metadata": {},
   "outputs": [
    {
     "name": "stdout",
     "output_type": "stream",
     "text": [
      "11.25\n",
      "18.0\n",
      "20.0\n",
      "10.75\n",
      "9.5\n"
     ]
    }
   ],
   "source": [
    "# lista: areas\n",
    "areas = [11.25, 18.0, 20.0, 10.75, 9.50]\n",
    "\n",
    "# Código para el bucle for\n",
    "for area in areas:\n",
    "    print(area)"
   ]
  },
  {
   "cell_type": "markdown",
   "metadata": {},
   "source": [
    "## Indices y valores (1)\n",
    "Usar un bucle ```for``` para iterar sobre una lista solo te da acceso a todos los elementos de la lista en cada ejecución, uno tras otro. Si también quieres acceder a la información del índice, puedes usar ```enumerate()```."
   ]
  },
  {
   "cell_type": "code",
   "execution_count": 3,
   "metadata": {},
   "outputs": [
    {
     "name": "stdout",
     "output_type": "stream",
     "text": [
      "room - 0 : 11.25\n",
      "room - 1 : 18.0\n",
      "room - 2 : 20.0\n",
      "room - 3 : 10.75\n",
      "room - 4 : 9.5\n"
     ]
    }
   ],
   "source": [
    "# lista: areas\n",
    "areas = [11.25, 18.0, 20.0, 10.75, 9.50]\n",
    "\n",
    "# Cambio de bucle para usar enumerate() y actualizar print()\n",
    "for index, area in enumerate(areas) :\n",
    "    print(\"room - \" + str(index) + \" : \" + str(area))"
   ]
  },
  {
   "cell_type": "markdown",
   "metadata": {},
   "source": [
    "## Loops sobre una lista de listas\n",
    "¿Recuerdas la variable ```house``` del curso de Introducción a Python? Mira su definición en el código. Es básicamente una lista de listas, donde cada sub-lista contiene el nombre y el área de una habitación en tu casa.\n",
    "\n",
    "¡Depende de ti construir un bucle for desde cero esta vez!"
   ]
  },
  {
   "cell_type": "code",
   "execution_count": 4,
   "metadata": {},
   "outputs": [
    {
     "name": "stdout",
     "output_type": "stream",
     "text": [
      "the hallway is 11.25 sqm\n",
      "the kitchen is 18.0 sqm\n",
      "the living room is 20.0 sqm\n",
      "the bedroom is 10.75 sqm\n",
      "the bathroom is 9.5 sqm\n"
     ]
    }
   ],
   "source": [
    "# Lista de listas «house»\n",
    "house = [[\"hallway\", 11.25],\n",
    "         [\"kitchen\", 18.0],\n",
    "         [\"living room\", 20.0],\n",
    "         [\"bedroom\", 10.75],\n",
    "         [\"bathroom\", 9.50]]\n",
    "         \n",
    "# Construir un bucle for desde cero\n",
    "for home in house:\n",
    "    print(\"the \" + home[0] + \" is \" + str(home[1]) + \" sqm\")"
   ]
  },
  {
   "cell_type": "markdown",
   "metadata": {},
   "source": [
    "## Loop sobre un «diccionario»\n",
    "En Python 3, necesitas el método ```items()``` para hacer un bucle sobre un diccionario:\n",
    "```python\n",
    "world = { \"afganistán\":30.55,\n",
    "          \"albania\":2,77,\n",
    "          \"algeria\":39.21 }\n",
    "\n",
    "for key, value in world.items() :\n",
    "    print(key + \" -- \" + str(value))\n",
    "```\n",
    "¿Recuerdas el diccionario ```europe``` que contenía los nombres de algunos países ```europeos``` como clave y sus capitales como valor correspondiente? ¡Adelante, escribe un bucle para iterarlo!"
   ]
  },
  {
   "cell_type": "code",
   "execution_count": 5,
   "metadata": {},
   "outputs": [
    {
     "name": "stdout",
     "output_type": "stream",
     "text": [
      "The capital of spain is madrid\n",
      "The capital of france is paris\n",
      "The capital of germany is berlin\n",
      "The capital of norway is oslo\n",
      "The capital of italy is rome\n",
      "The capital of poland is warsaw\n",
      "The capital of austria is vienna\n"
     ]
    }
   ],
   "source": [
    "# Definición de diccionario\n",
    "europe = {'spain':'madrid', 'france':'paris', 'germany':'berlin',\n",
    "          'norway':'oslo', 'italy':'rome', 'poland':'warsaw', 'austria':'vienna' }\n",
    "          \n",
    "# Iterar sobre europe\n",
    "for country, capital in europe.items():\n",
    "    print(\"The capital of \" + country + \" is \" + capital)"
   ]
  },
  {
   "cell_type": "markdown",
   "metadata": {},
   "source": [
    "## Bucle sobre matriz NumPy\n",
    "Si se trata de una matriz ```NumPy 1D```, el bucle sobre todos los elementos puede ser tan simple como:\n",
    "```python\n",
    "for x in my_array :\n",
    "...\n",
    "```\n",
    "Si se trata de una matriz ```2D NumPy```, es más complicado. Una matriz 2D se compone de múltiples matrices 1D. Para iterar explícitamente sobre todos los elementos separados de una matriz multidimensional, necesitarás esta sintaxis:\n",
    "```python\n",
    "for x in np.nditer(my_array) :\n",
    "...\n",
    "```\n",
    "Dos matrices NumPy que podrías reconocer del curso de introducción están disponibles en Python session: ```np_height```, una matriz NumPy que contiene las alturas de los jugadores de béisbol de las Grandes Ligas, y ```np_baseball```, una matriz NumPy 2D que contiene tanto las alturas (primera columna) como los pesos (segunda columna) de esos jugadores."
   ]
  },
  {
   "cell_type": "code",
   "execution_count": null,
   "metadata": {},
   "outputs": [],
   "source": [
    "# Importa numpy como np\n",
    "import numpy as np\n",
    "\n",
    "# Loop «for»  sobre np_height\n",
    "for height in np_height:\n",
    "    print(str(height) + \" inches\")\n",
    "\n",
    "# Loop «for»  sobre np_baseball\n",
    "for players in np.nditer(np_baseball):\n",
    "    print(players)"
   ]
  },
  {
   "cell_type": "markdown",
   "metadata": {},
   "source": [
    "## Loop sobre un DataFrame (1)\n",
    "La iteración sobre un Pandas ```DataFrame``` se realiza normalmente con el método ```iterrows()```. Usada en un bucle ```for``` cada observación se usa una y otra vez en cada iteración. La etiqueta de la fila y el contenido real de la fila están disponibles:\n",
    "```python\n",
    "for lab, row in brics.iterrows() :\n",
    "...\n",
    "```\n",
    "En este y los siguientes ejercicios estarás trabajando en el ```DataFrame cars```. Contiene información sobre los automóviles per cápita y si las personas conducen a la derecha o a la izquierda en siete países del mundo."
   ]
  },
  {
   "cell_type": "code",
   "execution_count": null,
   "metadata": {},
   "outputs": [],
   "source": [
    "# Importar datos de «cars»\n",
    "import pandas as pd\n",
    "cars = pd.read_csv('cars.csv', index_col = 0)\n",
    "\n",
    "# Iterar sobre filas de coches\n",
    "for lab, row in cars.iterrows():\n",
    "    print(lab)\n",
    "    print(row)"
   ]
  },
  {
   "cell_type": "markdown",
   "metadata": {},
   "source": [
    "```python\n",
    "US\n",
    "\n",
    "cars_per_cap              809\n",
    "country         United States\n",
    "drives_right             True\n",
    "Name: US, dtype: object\n",
    "\n",
    "AUS\n",
    "\n",
    "cars_per_cap          731\n",
    "country         Australia\n",
    "drives_right        False\n",
    "Name: AUS, dtype: object\n",
    "\n",
    "JPN\n",
    "\n",
    "cars_per_cap      588\n",
    "country         Japan\n",
    "drives_right    False\n",
    "Name: JPN, dtype: object\n",
    "\n",
    "IN\n",
    "\n",
    "cars_per_cap       18\n",
    "country         India\n",
    "drives_right    False\n",
    "Name: IN, dtype: object\n",
    "\n",
    "RU\n",
    "\n",
    "cars_per_cap       200\n",
    "country         Russia\n",
    "drives_right      True\n",
    "Name: RU, dtype: object\n",
    "\n",
    "MOR\n",
    "\n",
    "cars_per_cap         70\n",
    "country         Morocco\n",
    "drives_right       True\n",
    "Name: MOR, dtype: object\n",
    "\n",
    "EG\n",
    "\n",
    "cars_per_cap       45\n",
    "country         Egypt\n",
    "drives_right     True\n",
    "Name: EG, dtype: object\n",
    "```"
   ]
  },
  {
   "cell_type": "markdown",
   "metadata": {},
   "source": [
    "## Loop sobre un DataFrame (2)\n",
    "Los datos de fila generados por ```iterrows()``` en cada ejecución son una serie Pandas. Este formato no es muy conveniente para imprimir. Por suerte, puedes seleccionar fácilmente variables de la serie Pandas utilizando corchetes\n",
    "```python\n",
    "for lab, row in brics.iterrows() :\n",
    "print(row['country'])\n",
    "```"
   ]
  },
  {
   "cell_type": "code",
   "execution_count": null,
   "metadata": {},
   "outputs": [],
   "source": [
    "# Importar datos de «cars»\n",
    "import pandas as pd\n",
    "cars = pd.read_csv('cars.csv', index_col = 0)\n",
    "\n",
    "# Adapta el bucle for\n",
    "for lab, row in cars.iterrows() :\n",
    "   print(lab + \": \" + str(row[\"cars_per_cap\"]))"
   ]
  },
  {
   "cell_type": "markdown",
   "metadata": {},
   "source": [
    "```python\n",
    "    US: 809\n",
    "    AUS: 731\n",
    "    JPN: 588\n",
    "    IN: 18\n",
    "    RU: 200\n",
    "    MOR: 70\n",
    "    EG: 45\n",
    "```"
   ]
  },
  {
   "cell_type": "markdown",
   "metadata": {},
   "source": [
    "## Añade una columna (1)\n",
    "En el video, Hugo te mostró cómo agregar la longitud de los nombres de país de en el DataFrame brics en una nueva columna:\n",
    "```python\n",
    "for lab, row in brics.iterrows() :\n",
    "brics.loc[lab, \"name_length\"] = len(row[\"country\"])\n",
    "```\n",
    "Puedes hacer cosas similares en el DataFrame cars."
   ]
  },
  {
   "cell_type": "code",
   "execution_count": null,
   "metadata": {},
   "outputs": [],
   "source": [
    "# Importar datos de «cars»\n",
    "import pandas as pd\n",
    "cars = pd.read_csv('cars.csv', index_col = 0)\n",
    "\n",
    "# Código para bucle que añade columna COUNTRY\n",
    "for lab, row in cars.iterrows():\n",
    "    cars.loc[lab, \"COUNTRY\"] = row[\"country\"].upper()\n",
    "\n",
    "\n",
    "# Imprime cars\n",
    "print(cars)"
   ]
  },
  {
   "cell_type": "markdown",
   "metadata": {},
   "source": [
    "```python\n",
    "     cars_per_cap        country  drives_right        COUNTRY\n",
    "US            809  United States          True  UNITED STATES\n",
    "AUS           731      Australia         False      AUSTRALIA\n",
    "JPN           588          Japan         False          JAPAN\n",
    "IN             18          India         False          INDIA\n",
    "RU            200         Russia          True         RUSSIA\n",
    "MOR            70        Morocco          True        MOROCCO\n",
    "EG             45          Egypt          True          EGYPT\n",
    "```"
   ]
  },
  {
   "cell_type": "markdown",
   "metadata": {},
   "source": [
    "## Añadir una columna (2)\n",
    "Usar ```iterrows()``` para iterar sobre cada observación de un Pandas ```DataFrame``` es fácil de entender, pero no muy eficiente. En cada iteración, estás creando una nueva serie de Pandas.\n",
    "\n",
    "Si quieres agregar una columna a un ```DataFrame``` llamando a una función en otra columna, el método ```iterrows()``` en combinación con un bucle ```for``` no es la forma más adecuada. En su lugar, deberías usar ```apply()```.\n",
    "\n",
    "Compara la versión ```iterrows()``` con la versión ```apply()``` para obtener el mismo resultado en ```DataFrame: brics```\n",
    "```python\n",
    "for lab, row in brics.iterrows() :\n",
    "    brics.loc[lab, \"name_length\"] = len(row[\"country\"])\n",
    "\n",
    "brics[\"name_length\"] = brics[\"country\"].apply(len)\n",
    "```\n",
    "Podemos hacer algo similar para llamar al método ```upper()``` en cada nombre de la columna country. Sin embargo, ```upper()``` es un method, así que necesitaremos un planteamiento ligeramente diferente:"
   ]
  },
  {
   "cell_type": "code",
   "execution_count": null,
   "metadata": {},
   "outputs": [],
   "source": [
    "# Importar datos de «cars»\n",
    "import pandas as pd\n",
    "cars = pd.read_csv('cars.csv', index_col = 0)\n",
    "\n",
    "# Usa .apply(str.upper)\n",
    "cars[\"COUNTRY\"] = cars[\"country\"].apply(str.upper)\n",
    "\n",
    "print(cars)"
   ]
  },
  {
   "cell_type": "markdown",
   "metadata": {},
   "source": [
    "```python\n",
    "     cars_per_cap        country  drives_right        COUNTRY\n",
    "US            809  United States          True  UNITED STATES\n",
    "AUS           731      Australia         False      AUSTRALIA\n",
    "JPN           588          Japan         False          JAPAN\n",
    "IN             18          India         False          INDIA\n",
    "RU            200         Russia          True         RUSSIA\n",
    "MOR            70        Morocco          True        MOROCCO\n",
    "EG             45          Egypt          True          EGYPT\n",
    "```"
   ]
  }
 ],
 "metadata": {
  "kernelspec": {
   "display_name": "Python 3",
   "language": "python",
   "name": "python3"
  },
  "language_info": {
   "codemirror_mode": {
    "name": "ipython",
    "version": 3
   },
   "file_extension": ".py",
   "mimetype": "text/x-python",
   "name": "python",
   "nbconvert_exporter": "python",
   "pygments_lexer": "ipython3",
   "version": "3.10.10"
  }
 },
 "nbformat": 4,
 "nbformat_minor": 2
}
