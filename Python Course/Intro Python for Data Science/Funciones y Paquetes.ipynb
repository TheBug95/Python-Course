{
 "cells": [
  {
   "cell_type": "code",
   "execution_count": 2,
   "metadata": {},
   "outputs": [
    {
     "data": {
      "text/plain": [
       "1.7"
      ]
     },
     "execution_count": 2,
     "metadata": {},
     "output_type": "execute_result"
    }
   ],
   "source": [
    "#La funcion round permite redondear un numero float \n",
    "round(1.68, 1) #con el 1 especificamos despues de la coma decimal los digitos a tener en cuenta para realizar el redondeo"
   ]
  },
  {
   "cell_type": "code",
   "execution_count": 3,
   "metadata": {},
   "outputs": [
    {
     "data": {
      "text/plain": [
       "2"
      ]
     },
     "execution_count": 3,
     "metadata": {},
     "output_type": "execute_result"
    }
   ],
   "source": [
    "round(1.68) #como no especificamos entonce python redondea al numero entero mas cercano"
   ]
  },
  {
   "cell_type": "code",
   "execution_count": 1,
   "metadata": {},
   "outputs": [
    {
     "name": "stdout",
     "output_type": "stream",
     "text": [
      "Help on built-in function round in module builtins:\n",
      "\n",
      "round(number, ndigits=None)\n",
      "    Round a number to a given precision in decimal digits.\n",
      "    \n",
      "    The return value is an integer if ndigits is omitted or None.  Otherwise\n",
      "    the return value has the same type as the number.  ndigits may be negative.\n",
      "\n"
     ]
    }
   ],
   "source": [
    "help(round) #Con este codigo podemos revisar la documentacion de una funcion en especifico"
   ]
  },
  {
   "cell_type": "code",
   "execution_count": 6,
   "metadata": {},
   "outputs": [
    {
     "name": "stdout",
     "output_type": "stream",
     "text": [
      "\u001b[1;31mSignature:\u001b[0m \u001b[0mround\u001b[0m\u001b[1;33m(\u001b[0m\u001b[0mnumber\u001b[0m\u001b[1;33m,\u001b[0m \u001b[0mndigits\u001b[0m\u001b[1;33m=\u001b[0m\u001b[1;32mNone\u001b[0m\u001b[1;33m)\u001b[0m\u001b[1;33m\u001b[0m\u001b[1;33m\u001b[0m\u001b[0m\n",
      "\u001b[1;31mDocstring:\u001b[0m\n",
      "Round a number to a given precision in decimal digits.\n",
      "\n",
      "The return value is an integer if ndigits is omitted or None.  Otherwise\n",
      "the return value has the same type as the number.  ndigits may be negative.\n",
      "\u001b[1;31mType:\u001b[0m      builtin_function_or_method"
     ]
    }
   ],
   "source": [
    "?round"
   ]
  },
  {
   "cell_type": "code",
   "execution_count": null,
   "metadata": {},
   "outputs": [],
   "source": [
    "# Crea las variables var1 y var2\n",
    "var1 = [1, 2, 3, 4]\n",
    "var2 = True\n",
    "\n",
    "# Imprime el tipo de var1\n",
    "print(type(var1))\n",
    "\n",
    "# Imprime la longitud de var1\n",
    "print(len(var1))\n",
    "\n",
    "# Convierte var2 a un entero: var2\n",
    "out2 = int(var2)"
   ]
  },
  {
   "cell_type": "markdown",
   "metadata": {},
   "source": [
    "## Argumentos Múltiples\n",
    "En el ejercicio anterior, identificamos argumentos opcionales al ver la documentación usando ```help()```. Ahora aplicaremos este concepto para cambiar el comportamiento de la función ```sorted()``` .\n",
    "\n",
    "Echa un vistazo a la documentación de ```sorted()``` escribiendo ```help(sorted)``` en el IPython Shell.\n",
    "\n",
    "Verás que ```sorted()``` toma tres argumentos: ```iterable```, ```key``` y ```reverse```.\n",
    "\n",
    "```key=None``` significa que si no especificamos el argumento ```key```, será None. ```reverse=False``` significa que si no especificamos el argumento ```reverse```, será ```False``` de forma predeterminada.\n",
    "\n",
    "En este ejercicio, solo tendrás que especificar ```iterable``` y ```reverse```, no ```key```. El primer argumento que pasemos a ```sorted()``` coincidirá con el argumento ```iterable``` , pero ¿qué pasa con el segundo argumento? Para decirle a Python que deseamos especificar reverse sin cambiar nada sobre key, puedes usar ```=``` para asignarle un nuevo valor:\n",
    "\n",
    "```python\n",
    "sorted(____, reverse=____)\n",
    "```\n",
    "\n",
    "Nota: Por ahora, podemos decir que un ```iterable``` es cualquier colección de objetos, por ejemplo, una Lista."
   ]
  },
  {
   "cell_type": "code",
   "execution_count": 7,
   "metadata": {},
   "outputs": [
    {
     "name": "stdout",
     "output_type": "stream",
     "text": [
      "[20.0, 18.0, 11.25, 10.75, 9.5]\n"
     ]
    }
   ],
   "source": [
    "# Crea las listas first y second\n",
    "first = [11.25, 18.0, 20.0]\n",
    "second = [10.75, 9.50]\n",
    "\n",
    "# Combina first y second: full\n",
    "full = first + second\n",
    "\n",
    "# Ordena full en orden descendente: full_sorted\n",
    "full_sorted = sorted(full, reverse=True)\n",
    "\n",
    "# Imprime full_sorted\n",
    "print(full_sorted)"
   ]
  },
  {
   "cell_type": "markdown",
   "metadata": {},
   "source": [
    "# Métodos\n"
   ]
  },
  {
   "cell_type": "markdown",
   "metadata": {},
   "source": [
    "### Son aquellas funciones que van ligadas a alguntipo de objeto como las listas, string, float"
   ]
  },
  {
   "cell_type": "code",
   "execution_count": 1,
   "metadata": {},
   "outputs": [
    {
     "name": "stdout",
     "output_type": "stream",
     "text": [
      "poolhouse\n",
      "POOLHOUSE\n",
      "3\n"
     ]
    }
   ],
   "source": [
    "# cadena para experimentar con: place\n",
    "place = \"poolhouse\"\n",
    "\n",
    "# Usa upper() en place: place_up\n",
    "place_up = place.upper()\n",
    "\n",
    "# Imprime place y place_up\n",
    "print(place)\n",
    "print(place_up)\n",
    "\n",
    "# Imprime el número de o en place\n",
    "print(place.count(\"o\"))"
   ]
  },
  {
   "cell_type": "code",
   "execution_count": 2,
   "metadata": {},
   "outputs": [
    {
     "name": "stdout",
     "output_type": "stream",
     "text": [
      "5\n",
      "1\n"
     ]
    }
   ],
   "source": [
    "areas = [\"hallway\", 11.25, \"kitchen\", 18.0, \"living room\", 20.0, \"bedroom\", 10.75, \"bathroom\", 9.50]\n",
    "\n",
    "print(areas.index(20.0))\n",
    "print(areas.count(9.50))"
   ]
  },
  {
   "cell_type": "markdown",
   "metadata": {},
   "source": [
    "### Métodos de listas\n",
    "La mayoría de los métodos de lista cambiarán la lista con la que se les llama. Los ejemplos son:\n",
    "\n",
    "```python\n",
    "append() -> Agrega un elemento a la lista con la que se llama\n",
    "remove() -> Elimina el primer elemento de la lista que coincide con la entrada\n",
    "reverse() -> Invierte el orden de los elementos en la lista con la que se llama.\n",
    "```"
   ]
  },
  {
   "cell_type": "code",
   "execution_count": 3,
   "metadata": {},
   "outputs": [
    {
     "name": "stdout",
     "output_type": "stream",
     "text": [
      "[11.25, 18.0, 20.0, 10.75, 9.5, 24.5, 15.45]\n",
      "[15.45, 24.5, 9.5, 10.75, 20.0, 18.0, 11.25]\n"
     ]
    }
   ],
   "source": [
    "# Crea la lista areas\n",
    "areas = [11.25, 18.0, 20.0, 10.75, 9.50]\n",
    "\n",
    "# Usa append dos veces para agregar el tamaño de la casa de la piscina y el garaje\n",
    "areas.append(24.5)\n",
    "areas.append(15.45)\n",
    "\n",
    "\n",
    "# Imprime areas\n",
    "print(areas)\n",
    "\n",
    "# Invierte el orden de los elementos en areas\n",
    "areas.reverse()\n",
    "\n",
    "# Imprime areas\n",
    "print(areas)"
   ]
  },
  {
   "cell_type": "markdown",
   "metadata": {},
   "source": [
    "## Paquetes"
   ]
  },
  {
   "cell_type": "markdown",
   "metadata": {},
   "source": [
    "Como científico de datos, algunas nociones de geometría nunca están de más. Vamos a refrescar algunos de los conceptos básicos.\n",
    "\n",
    "Para un elegante algoritmo de agrupamiento, deseas encontrar la circunferencia, \n",
    ", y el área, \n",
    ", de un círculo. Cuando el radio del círculo es r, puedes calcular \n",
    " y \n",
    " como:\n",
    "\n",
    " $$C = 2πr$$\n",
    " $$A = πr^2$$\n",
    "\n",
    "Para usar la constante pi, necesitaremos el paquete math. La variable r ya está codificada en el script. Completa el código para calcular C y A y ve cómo las función print() crea buenas impresiones."
   ]
  },
  {
   "cell_type": "code",
   "execution_count": 4,
   "metadata": {},
   "outputs": [
    {
     "name": "stdout",
     "output_type": "stream",
     "text": [
      "Circunferencia: 2.701769682087222\n",
      "Area: 0.5808804816487527\n"
     ]
    }
   ],
   "source": [
    "# Importa el paquete math\n",
    "import math\n",
    "\n",
    "# Definición de radio\n",
    "r = 0.43\n",
    "\n",
    "# Calcula C\n",
    "C = 2 * math.pi * r\n",
    "\n",
    "# Calcula A\n",
    "A = math.pi * r ** 2\n",
    "\n",
    "# Imprime\n",
    "print(\"Circunferencia: \" + str(C))\n",
    "print(\"Area: \" + str(A))"
   ]
  },
  {
   "cell_type": "markdown",
   "metadata": {},
   "source": [
    "Digamos que la órbita de la Luna alrededor del planeta Tierra es un círculo perfecto, con un radio r (en km) que se define en el script.\n",
    "\n",
    "1- Realiza una importación selectiva desde el paquete math donde solo importas la función ```radians```.\n",
    "\n",
    "2- Calcula la distancia recorrida por la Luna en 12 grados de su órbita. Asigna el resultado a ```dist```. Puedes calcular esto como $r * phi$, donde $r$ es el radio y $phi$ es el ángulo en radianes. Para convertir un ángulo en grados a un ángulo en radianes, usa la función ```radians()```, que acabas de importar.\n",
    "\n",
    "3- Imprime ```dist```."
   ]
  },
  {
   "cell_type": "code",
   "execution_count": 5,
   "metadata": {},
   "outputs": [
    {
     "name": "stdout",
     "output_type": "stream",
     "text": [
      "40317.10572106901\n"
     ]
    }
   ],
   "source": [
    "# Importa radians del paquete math\n",
    "from math import radians\n",
    "\n",
    "# Definición de radio\n",
    "r = 192500\n",
    "\n",
    "# Distancia de viaje de la Luna sobre 12 grados. Guárdala en dist.\n",
    "phi = radians(12)\n",
    "dist = r * phi\n",
    "\n",
    "# Imprime dist\n",
    "print(dist)"
   ]
  },
  {
   "cell_type": "markdown",
   "metadata": {},
   "source": [
    "Supón que deseas utilizar la función ```inv()```, que se encuentra en el subpaquete ```linalg``` del paquete ```scipy```. Deseas poder utilizar esta función de la siguiente manera:\n",
    "\n",
    "```python\n",
    "my_inv([[1,2], [3,4]])\n",
    "```\n",
    "\n",
    "¿Qué declaración de importación se necesita para ejecutar el código anterior sin error?\n",
    "\n",
    "R/ ```from scipy.linalg import inv as my_inv```"
   ]
  }
 ],
 "metadata": {
  "kernelspec": {
   "display_name": "Python 3",
   "language": "python",
   "name": "python3"
  },
  "language_info": {
   "codemirror_mode": {
    "name": "ipython",
    "version": 3
   },
   "file_extension": ".py",
   "mimetype": "text/x-python",
   "name": "python",
   "nbconvert_exporter": "python",
   "pygments_lexer": "ipython3",
   "version": "3.10.10"
  }
 },
 "nbformat": 4,
 "nbformat_minor": 2
}
