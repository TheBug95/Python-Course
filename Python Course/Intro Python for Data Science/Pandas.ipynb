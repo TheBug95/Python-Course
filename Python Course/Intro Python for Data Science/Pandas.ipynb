{
 "cells": [
  {
   "cell_type": "markdown",
   "metadata": {},
   "source": [
    "## Del diccionario al DataFrame (1)\n",
    "```Pandas``` es una biblioteca de código abierto que proporciona estructuras de datos y herramientas de análisis de datos de alto rendimiento y fáciles de usar para Python. ¡Suena prometedor!\n",
    "\n",
    "El DataFrame es una de las estructuras de datos más importantes de ```Pandas```. Básicamente es una forma de almacenar datos tabulares donde puedes etiquetar las filas y las columnas. Una forma de crear un ```DataFrame``` es desde un ```diccionario```.\n",
    "\n",
    "En los ejercicios siguientes trabajarás con datos de vehículos de diferentes países. Cada observación corresponde a un país y las columnas proporcionan información sobre el número de vehículos per cápita, si las personas conducen a la izquierda o a la derecha, etc.\n",
    "\n",
    "Se definen tres listas en el script:\n",
    "\n",
    "```names```, que contiene los nombres de los países para los que hay datos disponibles.\n",
    "\n",
    "```dr```, una lista con valores booleanos que indica si las personas conducen a la izquierda o a la derecha en el país correspondiente.\n",
    "\n",
    "```cpc```, el número de vehículos de motor por cada 1000 personas en el país correspondiente.\n",
    "\n",
    "Cada clave del diccionario es una etiqueta de columna y cada valor es una lista que contiene los elementos de la columna."
   ]
  },
  {
   "cell_type": "code",
   "execution_count": 2,
   "metadata": {},
   "outputs": [
    {
     "name": "stdout",
     "output_type": "stream",
     "text": [
      "         country  drives_right  cars_per_cap\n",
      "0  United States          True           809\n",
      "1      Australia         False           731\n",
      "2          Japan         False           588\n",
      "3          India         False            18\n",
      "4         Russia          True           200\n",
      "5        Morocco          True            70\n",
      "6          Egypt          True            45\n"
     ]
    }
   ],
   "source": [
    "# Listas predefinidas\n",
    "names = ['United States', 'Australia', 'Japan', 'India', 'Russia', 'Morocco', 'Egypt']\n",
    "dr =  [True, False, False, False, True, True, True]\n",
    "cpc = [809, 731, 588, 18, 200, 70, 45]\n",
    "\n",
    "# Import pandas as pd\n",
    "import pandas as pd\n",
    "\n",
    "# Crea el diccionario my_dict con tres pares clave:valor: my_dict\n",
    "my_dict = {\"country\" : names, \"drives_right\" : dr, \"cars_per_cap\" : cpc}\n",
    "\n",
    "# Construye un DataFrame cars a partir de my_dict: cars\n",
    "cars = pd.DataFrame(my_dict)\n",
    "\n",
    "# Imprime cars\n",
    "print(cars)"
   ]
  },
  {
   "cell_type": "markdown",
   "metadata": {},
   "source": [
    "## Del diccionario al DataFrame (2)\n",
    "El código Python que resuelve el ejercicio anterior se incluye en el código. ¿Has notado que las etiquetas de las filas (es decir, las etiquetas de las diferentes observaciones) se establecieron automáticamente en números enteros del 0 al 6?\n",
    "\n",
    "Para solucionar esto, se ha creado una lista ```row_labels```. Puedes usarla para especificar las etiquetas de las filas del ```DataFrame``` de ```cars```. Para ello, configura el atributo ```index``` de ```cars```, al que puedes acceder como ```cars.index```."
   ]
  },
  {
   "cell_type": "code",
   "execution_count": 4,
   "metadata": {},
   "outputs": [
    {
     "name": "stdout",
     "output_type": "stream",
     "text": [
      "         country  drives_right  cars_per_cap\n",
      "0  United States          True           809\n",
      "1      Australia         False           731\n",
      "2          Japan         False           588\n",
      "3          India         False            18\n",
      "4         Russia          True           200\n",
      "5        Morocco          True            70\n",
      "6          Egypt          True            45\n",
      "           country  drives_right  cars_per_cap\n",
      "US   United States          True           809\n",
      "AUS      Australia         False           731\n",
      "JPN          Japan         False           588\n",
      "IN           India         False            18\n",
      "RU          Russia          True           200\n",
      "MOR        Morocco          True            70\n",
      "EG           Egypt          True            45\n"
     ]
    }
   ],
   "source": [
    "import pandas as pd\n",
    "\n",
    "# Construye un DataFrame cars\n",
    "names = ['United States', 'Australia', 'Japan', 'India', 'Russia', 'Morocco', 'Egypt']\n",
    "dr =  [True, False, False, False, True, True, True]\n",
    "cpc = [809, 731, 588, 18, 200, 70, 45]\n",
    "cars_dict = { 'country':names, 'drives_right':dr, 'cars_per_cap':cpc }\n",
    "cars = pd.DataFrame(cars_dict)\n",
    "print(cars)\n",
    "\n",
    "# Definición de row_labels\n",
    "row_labels = ['US', 'AUS', 'JPN', 'IN', 'RU', 'MOR', 'EG']\n",
    "\n",
    "# Especifica las etiquetas de las filas de los coches\n",
    "cars.index = row_labels\n",
    "\n",
    "# Vuelve a imprimir cars\n",
    "print(cars)"
   ]
  },
  {
   "cell_type": "markdown",
   "metadata": {},
   "source": [
    "## CSV a DataFrame (1)\n",
    "Poner datos en un diccionario y luego crear un ```DataFrame``` funciona, pero no es muy eficiente. ¿Qué pasa si se trata de millones de observaciones? En esos casos, los datos suelen estar disponibles como archivos con una estructura regular. Uno de esos tipos de archivos es el archivo CSV, que es la abreviatura de «valores separados por comas» en inglés.\n",
    "\n",
    "Para importar datos CSV a Python como un ```Pandas``` ```DataFrame```, puedes usar ```read_csv()```.\n",
    "\n",
    "Vamos a explorar esta función con los mismos datos de los coches de los ejercicios anteriores. Esta vez, sin embargo, los datos están disponibles en un archivo CSV denominado ```cars.csv```. Está disponible en tu directorio de trabajo actual, por lo que la ruta al archivo es simplemente ```'cars.csv'```."
   ]
  },
  {
   "cell_type": "code",
   "execution_count": null,
   "metadata": {},
   "outputs": [],
   "source": [
    "# Importa pandas as pd\n",
    "import pandas as pd\n",
    "\n",
    "# Importa el archivo cars.csv data: cars\n",
    "cars = pd.read_csv(\"cars.csv\")\n",
    "\n",
    "# Imprime coches\n",
    "print(cars)"
   ]
  },
  {
   "cell_type": "markdown",
   "metadata": {},
   "source": [
    "```python\n",
    "  Unnamed: 0  cars_per_cap        country  drives_right\n",
    "0         US           809  United States          True\n",
    "1        AUS           731      Australia         False\n",
    "2        JPN           588          Japan         False\n",
    "3         IN            18          India         False\n",
    "4         RU           200         Russia          True\n",
    "5        MOR            70        Morocco          True\n",
    "6         EG            45          Egypt          True\n",
    "```"
   ]
  },
  {
   "cell_type": "markdown",
   "metadata": {},
   "source": [
    "## CSV a DataFrame (2)\n",
    "Tu llamada a ```read_csv()``` para importar los datos del CSV no generó ningún error, pero el resultado no es del todo lo que queríamos. Las etiquetas de fila se importaron como otra columna sin nombre.\n",
    "\n",
    "¿Recuerdas ```index_col```, un argumento de ```read_csv()```, que puedes usar para especificar qué columna del archivo CSV debe usarse como etiqueta de fila? Bueno, ¡eso es exactamente lo que necesitas aquí!\n",
    "\n",
    "El código Python que resuelve el ejercicio anterior ya está incluido; ¿puedes hacer los cambios apropiados para corregir la importación de datos?"
   ]
  },
  {
   "cell_type": "code",
   "execution_count": null,
   "metadata": {},
   "outputs": [],
   "source": [
    "# Importa pandas as pd\n",
    "import pandas as pd\n",
    "\n",
    "# Corrige la importación incluyendo index_col\n",
    "cars = pd.read_csv('cars.csv', index_col = 0)\n",
    "\n",
    "# Imprime coches\n",
    "print(cars)"
   ]
  },
  {
   "cell_type": "markdown",
   "metadata": {},
   "source": [
    "```python\n",
    "     cars_per_cap        country  drives_right\n",
    "US            809  United States          True\n",
    "AUS           731      Australia         False\n",
    "JPN           588          Japan         False\n",
    "IN             18          India         False\n",
    "RU            200         Russia          True\n",
    "MOR            70        Morocco          True\n",
    "EG             45          Egypt          True\n",
    "```"
   ]
  },
  {
   "cell_type": "markdown",
   "metadata": {},
   "source": [
    "## Square Brackets (corchetes) (1)\n",
    "En el vídeo, viste que puedes indexar y seleccionar Pandas DataFrames de muchas formas diferentes. La forma más simple, pero no la más poderosa, es usar corchetes.\n",
    "\n",
    "En el código de ejemplo, se importan los mismos datos de cars desde un archivo CSV como un Pandas ```DataFrame```. Para seleccionar solo la columna ```cars_per_cap``` de ```cars```, puedes usar:\n",
    "```python\n",
    "cars['cars_per_cap']\n",
    "cars[['cars_per_cap']]\n",
    "```\n",
    "La versión de un solo corchete ofrece una serie Pandas, la versión de doble corchete proporciona un Pandas ```DataFrame```."
   ]
  },
  {
   "cell_type": "code",
   "execution_count": null,
   "metadata": {},
   "outputs": [],
   "source": [
    "# Importa datos de cars\n",
    "import pandas as pd\n",
    "cars = pd.read_csv('cars.csv', index_col = 0)\n",
    "\n",
    "# Imprime la columna country como Pandas Series\n",
    "print(cars[\"country\"])\n",
    "\n",
    "# Imprime la columna country como Pandas DataFrame\n",
    "print(cars[[\"country\"]])\n",
    "\n",
    "# Imprime DataFrame con las columnas country y drives_right\n",
    "print(cars[[\"country\", \"drives_right\"]])"
   ]
  },
  {
   "cell_type": "markdown",
   "metadata": {},
   "source": [
    "```python\n",
    "US     United States\n",
    "AUS        Australia\n",
    "JPN            Japan\n",
    "IN             India\n",
    "RU            Russia\n",
    "MOR          Morocco\n",
    "EG             Egypt\n",
    "Name: country, dtype: object\n",
    "\n",
    "           country\n",
    "US   United States\n",
    "AUS      Australia\n",
    "JPN          Japan\n",
    "IN           India\n",
    "RU          Russia\n",
    "MOR        Morocco\n",
    "EG           Egypt\n",
    "\n",
    "           country  drives_right\n",
    "US   United States          True\n",
    "AUS      Australia         False\n",
    "JPN          Japan         False\n",
    "IN           India         False\n",
    "RU          Russia          True\n",
    "MOR        Morocco          True\n",
    "EG           Egypt          True\n",
    "```"
   ]
  },
  {
   "cell_type": "markdown",
   "metadata": {},
   "source": [
    "## Square Brackets (corchetes) (2)\n",
    "Los corchetes permiten mucho más que seleccionar columnas. También puedes usarlos para obtener filas u observaciones de un ```DataFrame```. La siguiente llamada selecciona las cinco primeras filas del ```DataFrame``` ```cars```:\n",
    "```python\n",
    "cars[0:5]\n",
    "```\n",
    "El resultado es otro ```DataFrame``` que contiene solo las filas que especificaste.\n",
    "\n",
    "Presta atención: Solo puedes seleccionar filas con corchetes si especificas un sector, por ejemplo 0:4. Además, aquí está utilizando los índices enteros de las filas, ¡no las etiquetas de las filas!"
   ]
  },
  {
   "cell_type": "code",
   "execution_count": null,
   "metadata": {},
   "outputs": [],
   "source": [
    "# Importa datos de cars\n",
    "import pandas as pd\n",
    "cars = pd.read_csv('cars.csv', index_col = 0)\n",
    "\n",
    "# Imprime las 3 primeras observaciones\n",
    "print(cars[:3])\n",
    "\n",
    "# Imprime la cuarta, quinta y sexta observación\n",
    "print(cars[3:6])"
   ]
  },
  {
   "cell_type": "markdown",
   "metadata": {},
   "source": [
    "```python\n",
    "     cars_per_cap        country  drives_right\n",
    "US            809  United States          True\n",
    "AUS           731      Australia         False\n",
    "JPN           588          Japan         False\n",
    "\n",
    "     cars_per_cap  country  drives_right\n",
    "IN             18    India         False\n",
    "RU            200   Russia          True\n",
    "MOR            70  Morocco          True\n",
    "```"
   ]
  },
  {
   "cell_type": "markdown",
   "metadata": {},
   "source": [
    "## loc and iloc (1)\n",
    "Con ```loc``` and ```iloc``` puedes realizar prácticamente cualquier operación de selección de datos en ```DataFrames``` que se te ocurra. ```loc``` se basa en etiquetas, lo que significa que debes especificar filas y columnas en función de sus etiquetas de fila y columna. ```iloc``` se basa en índices de enteros, por lo que debes especificar las filas y columnas por su índice de enteros, como hiciste en el ejercicio anterior.\n",
    "```python\n",
    "#Devuelve una Serie de Pandas\n",
    "cars.loc['RU']\n",
    "cars.iloc[4]\n",
    "\n",
    "#devuelve un DataFrame de Pandas\n",
    "cars.loc[['RU']]\n",
    "cars.iloc[[4]]\n",
    "\n",
    "cars.loc[['RU', 'AUS']]\n",
    "cars.iloc[[4, 1]]\n",
    "```\n",
    "Como antes, se incluye un código que importa los datos de los coches como un ```Pandas DataFrame```."
   ]
  },
  {
   "cell_type": "code",
   "execution_count": null,
   "metadata": {},
   "outputs": [],
   "source": [
    "# Importa datos de cars\n",
    "import pandas as pd\n",
    "cars = pd.read_csv('cars.csv', index_col = 0)\n",
    "\n",
    "# Imprime la observación de Japón\n",
    "print(cars.loc[\"JPN\"])\n",
    "\n",
    "# Imprime las observaciones de Australia y Egipto\n",
    "print(cars.loc[[\"AUS\", \"EG\"]])"
   ]
  },
  {
   "cell_type": "markdown",
   "metadata": {},
   "source": [
    "```python\n",
    "cars_per_cap      588\n",
    "country         Japan\n",
    "drives_right    False\n",
    "Name: JPN, dtype: object\n",
    "\n",
    "     cars_per_cap    country  drives_right\n",
    "AUS           731  Australia         False\n",
    "EG             45      Egypt          True\n",
    "```"
   ]
  },
  {
   "cell_type": "markdown",
   "metadata": {},
   "source": [
    "## loc and iloc (2)\n",
    "```loc``` y ```iloc``` también te permiten seleccionar filas y columnas de un ```DataFrame```. Para experimentar con esto, prueba los siguientes comandos: Una vez más, los comandos emparejados producen el mismo resultado.\n",
    "```python\n",
    "cars.loc['IN', 'cars_per_cap']\n",
    "cars.iloc[3, 0]\n",
    "\n",
    "cars.loc[['IN', 'RU'], 'cars_per_cap']\n",
    "cars.iloc[[3, 4], 0]\n",
    "\n",
    "cars.loc[['IN', 'RU'], ['cars_per_cap', 'country']]\n",
    "cars.iloc[[3, 4], [0, 1]]\n",
    "```"
   ]
  },
  {
   "cell_type": "code",
   "execution_count": null,
   "metadata": {},
   "outputs": [],
   "source": [
    "# Importa datos de cars\n",
    "import pandas as pd\n",
    "cars = pd.read_csv('cars.csv', index_col = 0)\n",
    "\n",
    "# Imprime el valor drives_right de Marruecos\n",
    "print(cars.loc[\"MOR\", \"drives_right\"])\n",
    "print(cars.iloc[5, 2])\n",
    "\n",
    "# Imprime el sub-DataFrame\n",
    "print(cars.loc[[\"RU\", \"MOR\"], [\"country\", \"drives_right\"]])\n",
    "print(cars.iloc[[4, 5], [1, 2]])"
   ]
  },
  {
   "cell_type": "markdown",
   "metadata": {},
   "source": [
    "```python\n",
    "True\n",
    "\n",
    "True\n",
    "\n",
    "     country  drives_right\n",
    "RU    Russia          True\n",
    "MOR  Morocco          True\n",
    "\n",
    "     country  drives_right\n",
    "RU    Russia          True\n",
    "MOR  Morocco          True\n",
    "```"
   ]
  },
  {
   "cell_type": "markdown",
   "metadata": {},
   "source": [
    "## loc and iloc (3)\n",
    "También es posible seleccionar solo las columnas con ```loc``` y ```iloc```. En ambos casos, basta con poner una fracción que vaya de principio a fin delante de la coma\n",
    "```python\n",
    "cars.loc[:, 'country']\n",
    "cars.iloc[:, 1]\n",
    "\n",
    "cars.loc[:, ['country','drives_right']]\n",
    "cars.iloc[:, [1, 2]]\n",
    "```"
   ]
  },
  {
   "cell_type": "code",
   "execution_count": null,
   "metadata": {},
   "outputs": [],
   "source": [
    "# Importa datos de cars\n",
    "import pandas as pd\n",
    "cars = pd.read_csv('cars.csv', index_col = 0)\n",
    "\n",
    "# Imprime la columna drives_right como Serie\n",
    "print(cars.loc[:, \"drives_right\"])\n",
    "print(cars.iloc[:, 2])\n",
    "\n",
    "# Imprime la columna drives_right como DataFrame\n",
    "print(cars.loc[:, [\"drives_right\"]])\n",
    "print(cars.iloc[:, [2]])\n",
    "\n",
    "# Imprime cars_per_cap y drives_right como DataFrame\n",
    "print(cars.loc[:, [\"cars_per_cap\", \"drives_right\"]])\n",
    "print(cars.iloc[:, [0, 2]])"
   ]
  },
  {
   "cell_type": "markdown",
   "metadata": {},
   "source": [
    "```python\n",
    "US      True\n",
    "AUS    False\n",
    "JPN    False\n",
    "IN     False\n",
    "RU      True\n",
    "MOR     True\n",
    "EG      True\n",
    "Name: drives_right, dtype: bool\n",
    "\n",
    "US      True\n",
    "AUS    False\n",
    "JPN    False\n",
    "IN     False\n",
    "RU      True\n",
    "MOR     True\n",
    "EG      True\n",
    "Name: drives_right, dtype: bool\n",
    "\n",
    "     drives_right\n",
    "US           True\n",
    "AUS         False\n",
    "JPN         False\n",
    "IN          False\n",
    "RU           True\n",
    "MOR          True\n",
    "EG           True\n",
    "\n",
    "     drives_right\n",
    "US           True\n",
    "AUS         False\n",
    "JPN         False\n",
    "IN          False\n",
    "RU           True\n",
    "MOR          True\n",
    "EG           True\n",
    "\n",
    "     cars_per_cap  drives_right\n",
    "US            809          True\n",
    "AUS           731         False\n",
    "JPN           588         False\n",
    "IN             18         False\n",
    "RU            200          True\n",
    "MOR            70          True\n",
    "EG             45          True\n",
    "\n",
    "     cars_per_cap  drives_right\n",
    "US            809          True\n",
    "AUS           731         False\n",
    "JPN           588         False\n",
    "IN             18         False\n",
    "RU            200          True\n",
    "MOR            70          True\n",
    "EG             45          True\n",
    "```"
   ]
  }
 ],
 "metadata": {
  "kernelspec": {
   "display_name": "Python 3",
   "language": "python",
   "name": "python3"
  },
  "language_info": {
   "codemirror_mode": {
    "name": "ipython",
    "version": 3
   },
   "file_extension": ".py",
   "mimetype": "text/x-python",
   "name": "python",
   "nbconvert_exporter": "python",
   "pygments_lexer": "ipython3",
   "version": "3.10.10"
  }
 },
 "nbformat": 4,
 "nbformat_minor": 2
}
