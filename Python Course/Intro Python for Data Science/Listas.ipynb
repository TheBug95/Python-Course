{
 "cells": [
  {
   "cell_type": "markdown",
   "metadata": {},
   "source": [
    "## 1- Podemos indexar una lista accediendo directamente dentro del corchete de la lista definida\n",
    "\n",
    "```python\n",
    "list[1] -> Accede al segundo elemento de la lista \n",
    "```\n",
    "\n",
    "## 2- Tambien podemos aceder a los elementos de la lista desde el ultimo elemento, o sea contando hacia atrás\n",
    "\n",
    "```python\n",
    "list[-1] -> Accedemos al último elemento de la lista \n",
    "```\n",
    "\n",
    "## 3- Tambien podemos realizar cortes en la lista para que nos devuelva un conjunto de valores\n",
    "\n",
    "```python\n",
    "list[3:5] -> Nos devuelve los elementos 3 y 4 de la lista, el 5 elemento no está incluido ([start(included) : end(excluded)]) \n",
    "list[:5] -> Nos devuelve desde el primer list[0] elemento hasta el 4to elemento de la lista\n",
    "list[3:] -> Nos devuelve desde el elemnto 4 de la lista list[3] hasta el último elemento de la lista \n",
    "```\n",
    "\n"
   ]
  },
  {
   "cell_type": "code",
   "execution_count": 1,
   "metadata": {},
   "outputs": [
    {
     "name": "stdout",
     "output_type": "stream",
     "text": [
      "['hallway', 11.25, 'kitchen', 18.0, 'living room', 20.0]\n",
      "['bedroom', 10.75, 'bathroom', 9.5]\n"
     ]
    }
   ],
   "source": [
    "# Crea la lista areas\n",
    "areas = [\"hallway\", 11.25, \"kitchen\", 18.0, \"living room\", 20.0, \"bedroom\", 10.75, \"bathroom\", 9.50]\n",
    "\n",
    "# Subdivide areas para crear downstairs(contenga los primeros 6 elementos de areas)\n",
    "downstairs = areas[:6]\n",
    "\n",
    "# Subdivide areas para crear upstairs(contenga los últimos 4 elementos de areas)\n",
    "upstairs = areas[6:]\n",
    "\n",
    "# Imprime downstairs y upstairs\n",
    "print(downstairs)\n",
    "print(upstairs)"
   ]
  },
  {
   "cell_type": "code",
   "execution_count": 2,
   "metadata": {},
   "outputs": [
    {
     "data": {
      "text/plain": [
       "9.5"
      ]
     },
     "execution_count": 2,
     "metadata": {},
     "output_type": "execute_result"
    }
   ],
   "source": [
    "house = [\n",
    "        [\"hallway\", 11.25], \n",
    "        [\"kitchen\", 18.0], \n",
    "        [\"living room\", 20.0], \n",
    "        [\"bedroom\", 10.75], \n",
    "        [\"bathroom\", 9.50]\n",
    "    ]\n",
    "\n",
    "house[-1][1]"
   ]
  },
  {
   "cell_type": "markdown",
   "metadata": {},
   "source": [
    "## Si deseamos modificar algun elemento de la lista podemos hacer:\n",
    "```python\n",
    "list[1] = 9 -> Modificamos el elemento 2 de la lista cambiandolo por 9\n",
    "```\n",
    "\n",
    "## También podemos adicionar nuevo elementos a la lista:\n",
    "```python\n",
    "list = list + [9] -> Agregamos el valor 9 a la lista \n",
    "```\n",
    "\n",
    "## Podemos ademas eliminar elementos de una lista:\n",
    "```python\n",
    "del(list[2]) -> Con esto nos aseguramos eliminar el elemento 3 de la lista \n",
    "```\n"
   ]
  },
  {
   "cell_type": "markdown",
   "metadata": {},
   "source": [
    "### En este ejemplo podemos ver como al asignar los valores de la variable x a y y al modificar los valores de y tambien lo hacen los de x. Esto se debe que al hacer ``` y = x ``` estamos asignando no sus valores sino las referencias donde estan esos valores, por lo que tanto x como y están apuntando a la misma lista (modificando una, modifico la otra)"
   ]
  },
  {
   "cell_type": "code",
   "execution_count": 5,
   "metadata": {},
   "outputs": [
    {
     "name": "stdout",
     "output_type": "stream",
     "text": [
      "['a', 'z', 'c']\n",
      "['a', 'z', 'c']\n"
     ]
    }
   ],
   "source": [
    "x = [\"a\", \"b\", \"c\"]\n",
    "y = x\n",
    "\n",
    "y[1] = \"z\"\n",
    "\n",
    "print(y)\n",
    "print(x)"
   ]
  },
  {
   "cell_type": "markdown",
   "metadata": {},
   "source": [
    "## Para poder hacerlo correctamente tenemos que hacerlo de esta manera\n",
    "```python\n",
    "x = [\"a\", \"b\", \"c\"]\n",
    "\n",
    "y = list(x) #Primera forma\n",
    "\n",
    "y = x[:] #Segunda forma (copiamos todos los elementos de la lista hacvia y)\n",
    "\n",
    "y[1] = \"z\" #Esto no cambiará los valores de x\n",
    "```"
   ]
  },
  {
   "cell_type": "code",
   "execution_count": 6,
   "metadata": {},
   "outputs": [
    {
     "name": "stdout",
     "output_type": "stream",
     "text": [
      "['a', 'z', 'c']\n",
      "['a', 'b', 'c']\n"
     ]
    }
   ],
   "source": [
    "x = [\"a\", \"b\", \"c\"]\n",
    "\n",
    "y = list(x) #Primera forma\n",
    "\n",
    "y = x[:] #Segunda forma (copiamos todos los elementos de la lista hacvia y)\n",
    "\n",
    "y[1] = \"z\" #Esto no cambiará los valores de x\n",
    "\n",
    "print(y)\n",
    "print(x)"
   ]
  },
  {
   "cell_type": "code",
   "execution_count": 7,
   "metadata": {},
   "outputs": [
    {
     "name": "stdout",
     "output_type": "stream",
     "text": [
      "['hallway', 11.25, 'kitchen', 18.0, 'chill zone', 20.0, 'bedroom', 10.75, 'bathroom', 10.5]\n"
     ]
    }
   ],
   "source": [
    "# Crea la lista areas\n",
    "areas = [\"hallway\", 11.25, \"kitchen\", 18.0, \"living room\", 20.0, \"bedroom\", 10.75, \"bathroom\", 9.50]\n",
    "\n",
    "# Corrige el área de bathroom\n",
    "areas[-1] = 10.50\n",
    "\n",
    "# Cambia \"living room\" a \"chill zone\"\n",
    "areas[4] = \"chill zone\"\n",
    "\n",
    "print(areas)"
   ]
  },
  {
   "cell_type": "code",
   "execution_count": 15,
   "metadata": {},
   "outputs": [
    {
     "name": "stdout",
     "output_type": "stream",
     "text": [
      "['hallway', 11.25, 'kitchen', 18.0, 'chill zone', 20.0, 'bedroom', 10.75, 'bathroom', 10.5, 'poolhouse', 24.5, 'garage', 15.45]\n"
     ]
    }
   ],
   "source": [
    "# Crea la lista areas y realiza algunos cambios.\n",
    "areas = [\"hallway\", 11.25, \"kitchen\", 18.0, \"chill zone\", 20.0,\n",
    "         \"bedroom\", 10.75, \"bathroom\", 10.50]\n",
    "\n",
    "# Agrega datos de poolhouse a areas, la nueva lista es areas_1\n",
    "areas_1 = areas + [\"poolhouse\", 24.5]\n",
    "\n",
    "# Agrega los datos de garage a areas_1, la nueva lista es areas_2\n",
    "areas_2 = areas_1 + [\"garage\", 15.45]\n",
    "\n",
    "print(areas_2)"
   ]
  },
  {
   "cell_type": "code",
   "execution_count": 12,
   "metadata": {},
   "outputs": [
    {
     "name": "stdout",
     "output_type": "stream",
     "text": [
      "['hallway', 11.25, 'kitchen', 18.0, 'chill zone', 20.0, 'bedroom', 10.75, 'bathroom', 10.5, 24.5, 15.45]\n"
     ]
    }
   ],
   "source": [
    "#Eliminar la piscina con su respectiva area\n",
    "#Este codigo no funciona porque cuando eliminamos un elemento de la lista los otros\n",
    "#elementos que quedan cambian su posicion \n",
    "del(areas_2[10])\n",
    "del(areas_2[11])\n",
    "\n",
    "print(areas_2)"
   ]
  },
  {
   "cell_type": "code",
   "execution_count": 14,
   "metadata": {},
   "outputs": [
    {
     "name": "stdout",
     "output_type": "stream",
     "text": [
      "['hallway', 11.25, 'kitchen', 18.0, 'chill zone', 20.0, 'bedroom', 10.75, 'bathroom', 10.5, 'garage', 15.45]\n"
     ]
    }
   ],
   "source": [
    "#Este si funciona porque escogemos los valores a eliminar\n",
    "del(areas_2[-4:-2])\n",
    "\n",
    "print(areas_2)"
   ]
  },
  {
   "cell_type": "code",
   "execution_count": 16,
   "metadata": {},
   "outputs": [
    {
     "name": "stdout",
     "output_type": "stream",
     "text": [
      "['hallway', 11.25, 'kitchen', 18.0, 'chill zone', 20.0, 'bedroom', 10.75, 'bathroom', 10.5, 'garage', 15.45]\n"
     ]
    }
   ],
   "source": [
    "#Este tambien funciona porque tiene en cuenta como cambian los indices de los valores al eliminar 1 \n",
    "del(areas_2[10])\n",
    "del(areas_2[10])\n",
    "\n",
    "print(areas_2)"
   ]
  }
 ],
 "metadata": {
  "kernelspec": {
   "display_name": "Python 3",
   "language": "python",
   "name": "python3"
  },
  "language_info": {
   "codemirror_mode": {
    "name": "ipython",
    "version": 3
   },
   "file_extension": ".py",
   "mimetype": "text/x-python",
   "name": "python",
   "nbconvert_exporter": "python",
   "pygments_lexer": "ipython3",
   "version": "3.10.10"
  }
 },
 "nbformat": 4,
 "nbformat_minor": 2
}
