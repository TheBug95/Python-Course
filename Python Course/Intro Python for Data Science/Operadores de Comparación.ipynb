{
 "cells": [
  {
   "cell_type": "markdown",
   "metadata": {},
   "source": [
    "## Igualdades\n",
    "Para comprobar si dos valores o variables de Python son iguales, puede usar ==. Para comprobar la desigualdad, necesitas !=. Como repaso, echa un vistazo a los siguientes ejemplos, todos los cuales dan como resultado True. No dudes en probarlos en el Shell de IPython.\n",
    "```python\n",
    "2 == (1 + 1)\n",
    "\"intermediate\" != \"python\"\n",
    "True != False\n",
    "\"Python\" != \"python\"\n",
    "```\n",
    "Cuando escribas estas comparaciones en un código, necesitarás incluir una función print() alrededor de ellas para ver el resultado."
   ]
  },
  {
   "cell_type": "code",
   "execution_count": 3,
   "metadata": {},
   "outputs": [
    {
     "name": "stdout",
     "output_type": "stream",
     "text": [
      "False\n",
      "False\n",
      "False\n",
      "True\n"
     ]
    }
   ],
   "source": [
    "# Comparación de valores booleanos\n",
    "print(True == False)\n",
    "\n",
    "# Comparación de números enteros\n",
    "print(-5*15 == 75)\n",
    "\n",
    "# Comparación de strings\n",
    "print(\"pyscripts\" == \"Pyscripts\")\n",
    "\n",
    "# Compara un booleano con un entero\n",
    "print(True == 1)"
   ]
  },
  {
   "cell_type": "markdown",
   "metadata": {},
   "source": [
    "## Mayor y menor que\n",
    "En el vídeo, Hugo también habló sobre los signos para «menor que» y «mayor que», < y > en Python. Puedes combinarlos con valores iguales sign: <= y >=. Presta atención <= es una sintaxis válida, pero =< no lo es.\n",
    "\n",
    "Todas las expresiones de Python del siguiente fragmento de código se evalúan como True:\n",
    "\n",
    "3 < 4\n",
    "3 <= 4\n",
    "\"alpha\" <= \"beta\"\n",
    "Recuerda que para la comparación de strings, Python determina la relación en función del orden alfabético."
   ]
  },
  {
   "cell_type": "code",
   "execution_count": 5,
   "metadata": {},
   "outputs": [
    {
     "name": "stdout",
     "output_type": "stream",
     "text": [
      "False\n",
      "True\n",
      "True\n"
     ]
    }
   ],
   "source": [
    "# Comparación de números enteros\n",
    "x = -3 * 6\n",
    "print(x >= -10)\n",
    "\n",
    "\n",
    "# Comparación de strings\n",
    "y = \"test\"\n",
    "print(y <= y)\n",
    "\n",
    "\n",
    "# Comparación de valores booleanos\n",
    "print(True > False)"
   ]
  },
  {
   "cell_type": "markdown",
   "metadata": {},
   "source": [
    "## Comparar matrices\n",
    "De fábrica, también puedes usar operadores de comparación con matrices NumPy.\n",
    "\n",
    "¿Recuerdas las ```areas```, la lista de medidas de área para diferentes habitaciones de tu casa de Introducción a Python? Esta vez hay dos matrices NumPy ```my_house``` y ```your_house```. Ambas contienen las áreas de la cocina, la sala de estar, el dormitorio y el baño en el mismo orden, para que puedas compararlos."
   ]
  },
  {
   "cell_type": "code",
   "execution_count": 7,
   "metadata": {},
   "outputs": [
    {
     "name": "stdout",
     "output_type": "stream",
     "text": [
      "[ True  True False False]\n",
      "[False  True  True False]\n"
     ]
    }
   ],
   "source": [
    "# Crea matrices\n",
    "import numpy as np\n",
    "my_house = np.array([18.0, 20.0, 10.75, 9.50])\n",
    "your_house = np.array([14.0, 24.0, 14.25, 9.0])\n",
    "\n",
    "# my_house mayor o igual a 18 \n",
    "print(my_house >= 18)\n",
    "\n",
    "# my_house menos que your_house\n",
    "print(my_house < your_house)"
   ]
  },
  {
   "cell_type": "markdown",
   "metadata": {},
   "source": [
    "## and, or, not (1)\n",
    "Un booleano es 1 o 0, True o False. Con operadores booleanos como and, or y not, puedes combinar estos booleanos para realizar consultas más avanzadas en tus datos.\n",
    "\n",
    "En el código de ejemplo, se definen dos variables my_kitchen y your_kitchen, que representan áreas."
   ]
  },
  {
   "cell_type": "code",
   "execution_count": 1,
   "metadata": {},
   "outputs": [
    {
     "name": "stdout",
     "output_type": "stream",
     "text": [
      "False\n",
      "True\n",
      "True\n"
     ]
    }
   ],
   "source": [
    "# Definir variables\n",
    "my_kitchen = 18.0\n",
    "your_kitchen = 14.0\n",
    "\n",
    "# ¿my_kitchen más grande que 10 y menor que 18?\n",
    "print(my_kitchen > 10 and my_kitchen < 18)\n",
    "\n",
    "# ¿my_kitchen menor de 14 o mayor de 17?\n",
    "print(my_kitchen < 14 or my_kitchen > 17)\n",
    "\n",
    "# ¿El doble de my_kitchen es más pequeño que el triple de your_kitchen?\n",
    "print((2*my_kitchen) < (3*your_kitchen))"
   ]
  },
  {
   "cell_type": "markdown",
   "metadata": {},
   "source": [
    "## and, or, not (2)\n",
    "Para ver si ha entendido completamente los operadores booleanos, echa un vistazo a la siguiente parte del código Python\n",
    "```python\n",
    "x = 8\n",
    "y = 9\n",
    "not(not(x < 3) and not(y > 14 or y > 10))\n",
    "```\n",
    "¿Cuál será el resultado si ejecuta estos tres comandos en el Shell de IPython?\n",
    "\n",
    "NB: Observa que ```not``` tiene una prioridad superior a ```and``` o ```or```, se ejecuta primer\n",
    "\n",
    "R/ ```False```"
   ]
  },
  {
   "cell_type": "markdown",
   "metadata": {},
   "source": [
    "## Operadores booleanos con NumPy\n",
    "Antes, los operadores operativos como < y >= trabajaban con matrices NumPy sin tener que hacer nada. Desafortunadamente, esto no es cierto para los operadores booleanos and, or y not.\n",
    "\n",
    "Para usar estos operadores con NumPy, necesitarás ```np.logical_and()```, ```np.logical_or()``` y ```np.logical_not()```. Este es un ejemplo de las matrices ```my_house``` y ```your_house``` de antes para obtener una idea:\n",
    "```python\n",
    "np.logical_and(my_house > 13, \n",
    "               your_house < 15)\n",
    "```"
   ]
  },
  {
   "cell_type": "code",
   "execution_count": 2,
   "metadata": {},
   "outputs": [
    {
     "name": "stdout",
     "output_type": "stream",
     "text": [
      "[False  True False  True]\n",
      "[False False False  True]\n"
     ]
    }
   ],
   "source": [
    "# Crear matrices\n",
    "import numpy as np\n",
    "my_house = np.array([18.0, 20.0, 10.75, 9.50])\n",
    "your_house = np.array([14.0, 24.0, 14.25, 9.0])\n",
    "\n",
    "# my_house mayor de 18.5 o menor de 10\n",
    "print(np.logical_or(my_house > 18.5, my_house < 10))\n",
    "\n",
    "# Tanto my_house como your_house tienen un tamaño inferior a 11\n",
    "print(np.logical_and(my_house < 11, your_house < 11))"
   ]
  },
  {
   "cell_type": "markdown",
   "metadata": {},
   "source": [
    "## Conducir a la derecha (1)\n",
    "¿Recuerdas ese dataset ```cars```, que contiene los automóviles por cada 1000 personas ```(cars_per_cap)``` y si las personas conducen a la derecha ```(drives_right)``` para diferentes países ```(country)```? El código que importa estos datos en formato CSV a Python como ```DataFrame``` se incluye en el script.\n",
    "\n",
    "En el video, viste una explicación paso a paso para filtrar las observaciones de un ```DataFrame``` basado en matrices booleanas. Comencemos de forma sencilla e intentemos encontrar todas las observaciones en ```cars``` en las que ```drives_right``` son True.\n",
    "\n",
    "```drives_right``` es una columna booleana, por lo que tendrás que extraerla como una serie y, a continuación, usar esta serie booleana para seleccionar las observaciones de ```cars```."
   ]
  },
  {
   "cell_type": "code",
   "execution_count": null,
   "metadata": {},
   "outputs": [],
   "source": [
    "# Importa datos de cars\n",
    "import pandas as pd\n",
    "cars = pd.read_csv('cars.csv', index_col = 0)\n",
    "\n",
    "# Extrae la columna drives_right como Series: dr\n",
    "dr = cars[\"drives_right\"]\n",
    "\n",
    "# Usa dr para crear un subconjunto cars: sel\n",
    "sel = cars[dr == True]\n",
    "\n",
    "# Imprime sel\n",
    "print(sel)"
   ]
  },
  {
   "cell_type": "markdown",
   "metadata": {},
   "source": [
    "## Autos per cápita (1)\n",
    "Sigamos con los datos de ```cars``` un poco más. Esta vez quieres saber qué países tienen una cifra alta de automóviles per cápita. En otras palabras, en qué países hay muchas personas que tienen un automóvil, o tal vez varios automóviles.\n",
    "\n",
    "Al igual que en el ejemplo anterior, quieres crear una serie booleana, que luego puedas usar para sub-configurar el ```DataFrame``` ```cars``` y seleccionar ciertas observaciones. Si quieres hacer esto en una sola línea, ¡está perfectamente bien!"
   ]
  },
  {
   "cell_type": "code",
   "execution_count": null,
   "metadata": {},
   "outputs": [],
   "source": [
    "# Importa datos de cars\n",
    "import pandas as pd\n",
    "\n",
    "cars = pd.read_csv('cars.csv', index_col = 0)\n",
    "\n",
    "# Crea car_maniac: observaciones que tengan un cars_per_cap superior a 500\n",
    "many_cars = cars[\"cars_per_cap\"] > 500\n",
    "car_maniac = cars[many_cars == True]\n",
    "\n",
    "\n",
    "# Imprime car_maniac\n",
    "print(car_maniac)"
   ]
  },
  {
   "cell_type": "markdown",
   "metadata": {},
   "source": [
    "```python\n",
    "     cars_per_cap        country  drives_right\n",
    "US            809  United States          True\n",
    "AUS           731      Australia         False\n",
    "JPN           588          Japan         False\n",
    "```"
   ]
  },
  {
   "cell_type": "markdown",
   "metadata": {},
   "source": [
    "## Coches per cápita (2)\n",
    "¿Recuerdas ```np.logical_and()```, ```np.logical_or()``` y ```np.logical_not()```, las variantes de NumPy de los operadores ```and```, ```or``` y ```not?``` También puedes usarlos en la serie Pandas para realizar operaciones de filtrado más avanzadas.\n",
    "\n",
    "Tomemos este ejemplo que selecciona las observaciones que tienen un valor ```cars_per_cap``` entre 10 y 80. Prueba estas líneas de código paso a paso para ver qué está pasando.\n",
    "```python\n",
    "cpc = cars['cars_per_cap']\n",
    "between = np.logical_and(cpc > 10, cpc < 80)\n",
    "medium = cars[between]\n",
    "```"
   ]
  },
  {
   "cell_type": "code",
   "execution_count": null,
   "metadata": {},
   "outputs": [],
   "source": [
    "# Importa datos de cars\n",
    "import pandas as pd\n",
    "cars = pd.read_csv('cars.csv', index_col = 0)\n",
    "\n",
    "# Importa numpy, necesitarás esto\n",
    "import numpy as np\n",
    "\n",
    "# Crea medium: observaciones con cars_per_cap entre 100 y 500\n",
    "medium = cars[np.logical_and(cars[\"cars_per_cap\"] > 100, cars[\"cars_per_cap\"] < 500)]\n",
    "\n",
    "# Imprime medium\n",
    "print(medium)"
   ]
  },
  {
   "cell_type": "markdown",
   "metadata": {},
   "source": [
    "```python\n",
    "    cars_per_cap country  drives_right\n",
    "RU           200  Russia          True\n",
    "```"
   ]
  }
 ],
 "metadata": {
  "kernelspec": {
   "display_name": "Python 3",
   "language": "python",
   "name": "python3"
  },
  "language_info": {
   "codemirror_mode": {
    "name": "ipython",
    "version": 3
   },
   "file_extension": ".py",
   "mimetype": "text/x-python",
   "name": "python",
   "nbconvert_exporter": "python",
   "pygments_lexer": "ipython3",
   "version": "3.10.10"
  }
 },
 "nbformat": 4,
 "nbformat_minor": 2
}
