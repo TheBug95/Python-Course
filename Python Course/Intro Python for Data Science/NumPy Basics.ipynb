{
 "cells": [
  {
   "cell_type": "markdown",
   "metadata": {},
   "source": [
    "En este capítulo, vamos a sumergirnos en el mundo del béisbol. En el camino, nos familiarizaremos con los conceptos básicos de numpy, un poderoso paquete para ciencia de datos.\n",
    "\n",
    "Ya se ha definido una lista ```baseball``` en el script de Python, que representa la altura de algunos jugadores de béisbol en centímetros. ¿Puedes agregar algún código aquí y allá para crear un vector numpy a partir de él?"
   ]
  },
  {
   "cell_type": "code",
   "execution_count": 2,
   "metadata": {},
   "outputs": [
    {
     "name": "stdout",
     "output_type": "stream",
     "text": [
      "<class 'numpy.ndarray'>\n"
     ]
    }
   ],
   "source": [
    "# Importa el paquete numpy como np\n",
    "import numpy as np\n",
    "\n",
    "# Crea la lista baseball\n",
    "baseball = [180, 215, 210, 210, 188, 176, 209, 200]\n",
    "\n",
    "# Crea un vector numpy con baseball: np_baseball\n",
    "np_baseball = np.array(baseball) \n",
    "\n",
    "# Imprime el tipo de np_baseball\n",
    "print(type(np_baseball))"
   ]
  },
  {
   "cell_type": "markdown",
   "metadata": {},
   "source": [
    "## Altura de los beisbolistas\n",
    "Eres un gran fanático del béisbol. Decides llamar a la MLB (Major League Baseball) y pedir más estadísticas sobre la altura de los jugadores principales. Te pasan datos sobre más de mil jugadores, que se almacenan como una lista de Python: ```height_in```. La altura se expresa en pulgadas. ¿Puedes convertirla en un vector ```numpy``` y convertir las unidades a metros?\n",
    "\n",
    "```height_in``` ya está disponible y el paquete ```numpy``` está cargado, por lo que puedes comenzar de inmediato (Fuente: stat.ucla.edu)."
   ]
  },
  {
   "cell_type": "markdown",
   "metadata": {},
   "source": [
    "height_in es una BD x por lo que no funcionará el codigo siguiente"
   ]
  },
  {
   "cell_type": "code",
   "execution_count": 3,
   "metadata": {},
   "outputs": [
    {
     "ename": "NameError",
     "evalue": "name 'height_in' is not defined",
     "output_type": "error",
     "traceback": [
      "\u001b[1;31m---------------------------------------------------------------------------\u001b[0m",
      "\u001b[1;31mNameError\u001b[0m                                 Traceback (most recent call last)",
      "Cell \u001b[1;32mIn[3], line 5\u001b[0m\n\u001b[0;32m      2\u001b[0m \u001b[38;5;28;01mimport\u001b[39;00m \u001b[38;5;21;01mnumpy\u001b[39;00m \u001b[38;5;28;01mas\u001b[39;00m \u001b[38;5;21;01mnp\u001b[39;00m\n\u001b[0;32m      4\u001b[0m \u001b[38;5;66;03m# Crea un vector numpy desde height_in: np_height_in\u001b[39;00m\n\u001b[1;32m----> 5\u001b[0m np_height_in \u001b[38;5;241m=\u001b[39m np\u001b[38;5;241m.\u001b[39marray(\u001b[43mheight_in\u001b[49m)\n\u001b[0;32m      7\u001b[0m \u001b[38;5;66;03m# Imprime np_height_in\u001b[39;00m\n\u001b[0;32m      8\u001b[0m \u001b[38;5;28mprint\u001b[39m(np_height_in)\n",
      "\u001b[1;31mNameError\u001b[0m: name 'height_in' is not defined"
     ]
    }
   ],
   "source": [
    "# Importa numpy\n",
    "import numpy as np\n",
    "\n",
    "# Crea un vector numpy desde height_in: np_height_in\n",
    "np_height_in = np.array(height_in)\n",
    "\n",
    "# Imprime np_height_in\n",
    "print(np_height_in)\n",
    "\n",
    "# Convierte np_height_in a metros: np_height_m\n",
    "np_height_m = np_height_in * 0.0254\n",
    "\n",
    "# Imprime np_height_m\n",
    "print(np_height_m)"
   ]
  },
  {
   "cell_type": "markdown",
   "metadata": {},
   "source": [
    "La MLB también te permitirá analizar los datos de peso de los jugadores de béisbol. Una vez más, ambos están disponibles como listas de Python: ```height_in``` y ```weight_lb```. ```height_in``` está en pulgadas y ```weight_lb``` está en libras.\n",
    "\n",
    "Ahora es posible calcular el IMC de cada jugador de béisbol. El código de Python para convertir ```height_in``` en un vector numpy con las unidades correctas ya está disponible en el espacio de trabajo. ¡Sigue las instrucciones paso a paso y termina el juego! ```height_in``` y ```weight_lb``` están disponibles como listas."
   ]
  },
  {
   "cell_type": "code",
   "execution_count": null,
   "metadata": {},
   "outputs": [],
   "source": [
    "# Importa numpy\n",
    "import numpy as np\n",
    "\n",
    "# Crea un vector desde height_in con unidades métricas: np_height_m\n",
    "np_height_m = np.array(height_in) * 0.0254\n",
    "\n",
    "# Crea un vector a partir de weight_lb con unidades métricas: np_weight_kg\n",
    "np_weight_kg = np.array(weight_lb) * 0.453592\n",
    "\n",
    "# Calcular el IMC: bmi\n",
    "bmi = np_weight_kg / np_height_m ** 2\n",
    "\n",
    "# Imprime bmi\n",
    "print(bmi)"
   ]
  },
  {
   "cell_type": "markdown",
   "metadata": {},
   "source": [
    "## Beisbolistas peso ligero\n",
    "Para crear subconjuntos tanto de listas regulares de Python como de matrices y vectores ```numpy```, puedes usar corchetes:\n",
    "```python\n",
    "x = [4 , 9 , 6, 3, 1]\n",
    "x[1]\n",
    "import numpy as np\n",
    "y = np.array(x)\n",
    "y[1]\n",
    "```\n",
    "Para ```numpy``` específicamente, también puedes usar matrices booleanas ```numpy```:\n",
    "```python\n",
    "high = y > 5\n",
    "y[high]\n",
    "```\n",
    "Ya se incluye el código que calcula el IMC de todos los beisbolistas. ¡Sigue las instrucciones y revela cosas interesantes de los datos! ```height_in``` y ```weight_lb``` están disponibles como listas regulares."
   ]
  },
  {
   "cell_type": "code",
   "execution_count": null,
   "metadata": {},
   "outputs": [],
   "source": [
    "# Importa numpy\n",
    "import numpy as np\n",
    "\n",
    "# Calcular el IMC: bmi\n",
    "np_height_m = np.array(height_in) * 0.0254\n",
    "np_weight_kg = np.array(weight_lb) * 0.453592\n",
    "bmi = np_weight_kg / np_height_m ** 2\n",
    "\n",
    "# Crea el vector light\n",
    "light = np.array(bmi < 21)\n",
    "\n",
    "# Imprime light\n",
    "print(light)\n",
    "\n",
    "# Imprime los IMC de todos los jugadores de béisbol cuyo IMC sea inferior a 21\n",
    "print(bmi[light])"
   ]
  },
  {
   "cell_type": "markdown",
   "metadata": {},
   "source": [
    "## Efectos secundarios de NumPy\n",
    "Como Hugo explicó previamente, ```numpy``` es excelente para hacer aritmética vectorial. Sin embargo, si comparas su funcionalidad con las listas regulares de Python, algunas cosas han cambiado.\n",
    "\n",
    "En primer lugar, las matrices ```numpy``` no pueden contener elementos con diferentes tipos. Si intentas construir una lista de este tipo, algunos de los tipos de elementos se cambian para tener una lista homogénea. Esto se conoce como ```coerción de tipo```.\n",
    "\n",
    "En segundo lugar, los operadores aritméticos típicos, como $+$, $-$, $*$ y $/$ tienen un significado diferente para las listas regulares de Python y las matrices y vectores ```numpy```.\n",
    "\n",
    "Echa un vistazo a esta línea de código:\n",
    "```python\n",
    "np.array([True, 1, 2]) + np.array([3, 4, False])\n",
    "```\n",
    "¿Puedes seleccionar el fragmento de código que crea exactamente el mismo objeto en Python?\n",
    "\n",
    "R/ ```np.array([4, 3, 0]) + np.array([0, 2, 2])```\n"
   ]
  },
  {
   "cell_type": "markdown",
   "metadata": {},
   "source": [
    "Se suman elemento por elemento, no se concatenan como en las listas normales de python"
   ]
  },
  {
   "cell_type": "code",
   "execution_count": 4,
   "metadata": {},
   "outputs": [
    {
     "data": {
      "text/plain": [
       "array([4, 5, 2])"
      ]
     },
     "execution_count": 4,
     "metadata": {},
     "output_type": "execute_result"
    }
   ],
   "source": [
    "np.array([True, 1, 2]) + np.array([3, 4, False])"
   ]
  },
  {
   "cell_type": "code",
   "execution_count": 5,
   "metadata": {},
   "outputs": [
    {
     "data": {
      "text/plain": [
       "array([4, 5, 2])"
      ]
     },
     "execution_count": 5,
     "metadata": {},
     "output_type": "execute_result"
    }
   ],
   "source": [
    "np.array([4, 3, 0]) + np.array([0, 2, 2])"
   ]
  },
  {
   "cell_type": "markdown",
   "metadata": {},
   "source": [
    "## Subdivisión de vectores NumPy\n",
    "Lo has visto con tus propios ojos: Las listas de Python y las matrices ```numpy``` a veces se comportan de manera diferente. Por suerte, todavía hay certezas en este mundo. Por ejemplo, la creación de subconjuntos (usando la notación de corchetes en listas o matrices y vectores) funciona exactamente igual. Para ver esto por ti mismo, prueba las siguientes líneas de código en el IPython Shell:\n",
    "```python\n",
    "x = [\"a\", \"b\", \"c\"]\n",
    "x[1]\n",
    "\n",
    "np_x = np.array(x)\n",
    "np_x[1]\n",
    "```\n",
    "El script en el editor ya contiene código que importa ```numpy``` como ```np``` y almacena tanto la altura como el peso de los jugadores de la MLB como vectores ```numpy```. ```height_in``` y ```weight_lb``` están disponibles como listas regulares."
   ]
  },
  {
   "cell_type": "code",
   "execution_count": null,
   "metadata": {},
   "outputs": [],
   "source": [
    "# Importa numpy\n",
    "import numpy as np\n",
    "\n",
    "# Almacena las listas weight y height como vectores numpy\n",
    "np_weight_lb = np.array(weight_lb)\n",
    "np_height_in = np.array(height_in)\n",
    "\n",
    "# Imprime el índice 50 de np_weight_lb\n",
    "print(np_weight_lb[50])\n",
    "\n",
    "# Imprime el sub vector de np_height_in: desde el índice 100 hasta el índice 110 incluidos\n",
    "print(np_height_in[100:111])"
   ]
  },
  {
   "cell_type": "markdown",
   "metadata": {},
   "source": [
    "## Tu primer matriz 2D en NumPy\n",
    "Antes de trabajar con los datos reales de MLB, intentemos crear una matriz ```numpy``` 2D a partir de una pequeña lista de listas.\n",
    "\n",
    "En este ejercicio, ```baseball``` es una lista de listas. La lista principal contiene 4 elementos. Cada uno de estos elementos es una lista que contiene la altura y el peso de 4 jugadores de béisbol, en ese orden. ```baseball``` ya está codificado para ti en el guión."
   ]
  },
  {
   "cell_type": "code",
   "execution_count": 7,
   "metadata": {},
   "outputs": [
    {
     "name": "stdout",
     "output_type": "stream",
     "text": [
      "[[180.   78.4]\n",
      " [215.  102.7]\n",
      " [210.   98.5]\n",
      " [188.   75.2]]\n",
      "<class 'numpy.ndarray'>\n",
      "(4, 2)\n"
     ]
    }
   ],
   "source": [
    "# Importa numpy\n",
    "import numpy as np\n",
    "\n",
    "# Crea baseball, una lista de listas\n",
    "baseball = [[180, 78.4],\n",
    "            [215, 102.7],\n",
    "            [210, 98.5],\n",
    "            [188, 75.2]]\n",
    "\n",
    "# Crea una matriz numpy 2D de baseball: np_baseball\n",
    "np_baseball = np.array(baseball)\n",
    "print(np_baseball)\n",
    "\n",
    "# Imprime el tipo de np_baseball\n",
    "print(type(np_baseball))\n",
    "\n",
    "# Imprime el atributo shape de np_baseball\n",
    "print(np_baseball.shape)"
   ]
  },
  {
   "cell_type": "markdown",
   "metadata": {},
   "source": [
    "## Datos de béisbol en formato 2D\n",
    "Echa otro vistazo a los datos de MLB y te darás cuenta de que tiene más sentido reestructurar toda esta información en una matriz ```numpy``` 2D. Esta matriz debe tener 1015 filas, correspondientes a los 1015 jugadores de béisbol sobre los que se tiene información, y 2 columnas (para altura y peso).\n",
    "\n",
    "La MLB fue, nuevamente, muy útil y te pasó los datos en una estructura diferente, una lista de listas de Python. En esta lista de listas, cada sublista representa la altura y el peso de un solo jugador de béisbol. El nombre de esta lista de listas es ```baseball```.\n",
    "\n",
    "¿Puedes almacenar los datos como una matriz 2D para aprovechar la funcionalidad adicional de ```numpy```? ```baseball``` está disponible como una lista de listas regular."
   ]
  },
  {
   "cell_type": "code",
   "execution_count": null,
   "metadata": {},
   "outputs": [],
   "source": [
    "# Importa el paquete numpy\n",
    "import numpy as np\n",
    "\n",
    "# Crea una matriz numpy 2D de baseball: np_baseball\n",
    "np_baseball = np.array(baseball)\n",
    "\n",
    "# Imprime el atributo shape de np_baseball\n",
    "print(np_baseball.shape)"
   ]
  },
  {
   "cell_type": "markdown",
   "metadata": {},
   "source": [
    "## Subdivisión de matrices NumPy 2D\n",
    "Si tu matriz ```numpy``` 2D tiene una estructura regular, es decir, cada fila y columna tiene un número fijo de valores, subdividir se vuelve muy fácil. Echa un vistazo al código a continuación donde los elementos \"a\" y \"c\" se extraen de una lista de listas.\n",
    "```python\n",
    "# lista de listas regular\n",
    "x = [[\"a\", \"b\"], [\"c\", \"d\"]]\n",
    "[x[0][0], x[1][0]]\n",
    "\n",
    "# numpy\n",
    "import numpy as np\n",
    "np_x = np.array(x)\n",
    "np_x[:, 0]\n",
    "```\n",
    "Para las listas regulares de Python, esto es un verdadero dolor de cabeza. Sin embargo, para las matrices ```numpy``` 2D, ¡es bastante intuitivo! Los índices antes de la coma se refieren a las filas, mientras que los que están después de la coma se refieren a las columnas. El ```:``` es para rebanar; en este ejemplo, le dice a Python que incluya todas las filas.\n",
    "\n",
    "El código que convierte la lista ```baseball``` precargada en una matriz ```numpy``` 2D ya está en el script. La primera columna contiene la altura de los jugadores en pulgadas y la segunda columna contiene el peso de los jugadores en libras. Agrega algunas líneas para hacer las selecciones correctas. ¡Recuerda que en Python, el primer elemento está en el índice 0! ```baseball``` está disponible como una lista de listas regular."
   ]
  },
  {
   "cell_type": "code",
   "execution_count": null,
   "metadata": {},
   "outputs": [],
   "source": [
    "# Importa el paquete numpy\n",
    "import numpy as np\n",
    "\n",
    "# Crea np_baseball (2 columnas)\n",
    "np_baseball = np.array(baseball)\n",
    "\n",
    "# Imprime la fila 50 de np_baseball\n",
    "print(np_baseball[49])\n",
    "\n",
    "# Selecciona toda la segunda columna de np_baseball: np_weight_lb\n",
    "np_weight_lb = np_baseball[:,1]\n",
    "\n",
    "# Imprime la altura del jugador 124\n",
    "print(np_baseball[123,0])"
   ]
  },
  {
   "cell_type": "markdown",
   "metadata": {},
   "source": [
    "## Aritmética 2D\n",
    "¿Recuerdas cómo calculaste el índice de masa corporal para todos los jugadores de béisbol? ```numpy``` pudo realizar todos los cálculos al nivel elemento (es decir, elemento por elemento). ¡Para matrices ```numpy``` 2D no es diferente! Puedes combinar matrices con números, con vectores y con otras matrices.\n",
    "\n",
    "Ejecuta el siguiente código en el shell de IPython y ve si queda claro:\n",
    "```python\n",
    "import numpy as np\n",
    "np_mat = np.array([[1, 2],\n",
    "                   [3, 4],\n",
    "                   [5, 6]])\n",
    "np_mat * 2\n",
    "np_mat + np.array([10, 10])\n",
    "np_mat + np_mat\n",
    "```\n",
    "```np_baseball``` está codificado para ti; es nuevamente una matriz ```numpy``` 2D con 3 columnas que representan la altura (en pulgadas), el peso (en libras) y la edad (en años). ```baseball``` está disponible como una lista de listas regular y ```updated``` está disponible como matriz ```numpy``` 2D."
   ]
  },
  {
   "cell_type": "code",
   "execution_count": null,
   "metadata": {},
   "outputs": [],
   "source": [
    "# Importa el paquete numpy\n",
    "import numpy as np\n",
    "\n",
    "# Crea np_baseball (3 columnas)\n",
    "np_baseball = np.array(baseball)\n",
    "\n",
    "# Imprime la suma de np_baseball y updated\n",
    "print(np_baseball + updated)\n",
    "\n",
    "# Crea una matriz numpy: conversion\n",
    "conversion = np.array([0.0254, 0.453592, 1])\n",
    "\n",
    "# Imprime el producto de np_baseball y conversion\n",
    "print(np_baseball * conversion)"
   ]
  },
  {
   "cell_type": "markdown",
   "metadata": {},
   "source": [
    "## Promedio versus mediana\n",
    "Ahora sabes cómo usar funciones ```numpy``` para tener una mejor visión de tus datos. Básicamente se trata de importar ```numpy``` y luego llamar a varias funciones simples en las matrices ```numpy```:\n",
    "```python\n",
    "import numpy as np\n",
    "x = [1, 4, 8, 10, 12]\n",
    "np.mean(x)\n",
    "np.median(x)\n",
    "```\n",
    "Los datos de béisbol están disponibles como una matriz ```numpy``` 2D con 3 columnas (altura, peso, edad) y 1015 filas. El nombre de esta matriz ```numpy``` es ```np_baseball```. Sin embargo, después de reestructurar los datos, observas que algunos valores de altura son anormalmente altos. Sigue las instrucciones y descubre qué estadística de resumen es la más adecuada si se trata de los denominados valores atípicos. ```np_baseball``` está disponible."
   ]
  },
  {
   "cell_type": "code",
   "execution_count": 8,
   "metadata": {},
   "outputs": [
    {
     "name": "stdout",
     "output_type": "stream",
     "text": [
      "198.25\n",
      "199.0\n"
     ]
    }
   ],
   "source": [
    "# Importa numpy\n",
    "import numpy as np\n",
    "\n",
    "# Crea np_height_in usando np_baseball\n",
    "np_height_in = np.array(np_baseball[:, 0])\n",
    "\n",
    "# Imprime la media de np_height_in\n",
    "print(np.mean(np_height_in))\n",
    "\n",
    "# Imprime la mediana de np_height_in\n",
    "print(np.median(np_height_in))"
   ]
  },
  {
   "cell_type": "markdown",
   "metadata": {},
   "source": [
    "## Explora los datos de béisbol\n",
    "Debido a que la media y la mediana están tan alejadas, decides presentar una queja ante la MLB. Encuentran el error y te envían los datos corregidos. Están nuevamente disponibles como una matriz 2D ```NumPy np_baseball```, con tres columnas.\n",
    "\n",
    "El script de Python en el editor ya incluye código para imprimir mensajes informativos con las diferentes estadísticas de resumen. ¿Puedes terminar el trabajo? ```np_baseball``` está disponible."
   ]
  },
  {
   "cell_type": "code",
   "execution_count": 10,
   "metadata": {},
   "outputs": [
    {
     "name": "stdout",
     "output_type": "stream",
     "text": [
      "Average: 198.25\n",
      "Median: 199.0\n",
      "Standard Deviation: 14.635146053251399\n",
      "Correlation: [[1.         0.95865738]\n",
      " [0.95865738 1.        ]]\n"
     ]
    }
   ],
   "source": [
    "# Importa numpy\n",
    "import numpy as np\n",
    "\n",
    "# Imprime la altura media (primera columna)\n",
    "avg = np.mean(np_baseball[:,0])\n",
    "print(\"Average: \" + str(avg))\n",
    "\n",
    "# Imprime altura mediana. Reemplaza 'None'\n",
    "med = np.median(np_baseball[:, 0])\n",
    "print(\"Median: \" + str(med))\n",
    "\n",
    "# Imprime la desviación estándar de la altura. Reemplaza 'None'\n",
    "stddev = np.std(np_baseball[:, 0])\n",
    "print(\"Standard Deviation: \" + str(stddev))\n",
    "\n",
    "# Imprime la correlación entre la primera y la segunda columnas. Reemplaza 'None'\n",
    "corr = np.corrcoef(np_baseball[:, 0], np_baseball[:, 1])\n",
    "print(\"Correlation: \" + str(corr))"
   ]
  },
  {
   "cell_type": "markdown",
   "metadata": {},
   "source": [
    "## Juntemos todo\n",
    "En los últimos ejercicios hemos visto todo lo que hay que saber sobre la altura y el peso de los jugadores de béisbol. Ahora es el momento de sumergirse en otro deporte: el fútbol.\n",
    "\n",
    "Te has puesto en contacto con la FIFA y te han pasado dos listas. Las listas son las siguientes:\n",
    "```python\n",
    "positions = ['GK', 'M', 'A', 'D', ...]\n",
    "heights = [191, 184, 185, 180, ...]\n",
    "```\n",
    "Cada elemento de las listas corresponde a un jugador. La primera lista, ```positions```, contiene cadenas que representan la posición de cada jugador. Las posiciones son: ```'GK (portero)```, ```'M' (medio)```, ```'A' (delantero)``` y ```'D' (defensa)```. La segunda lista, ```heights```, contiene números enteros que representan la altura del jugador en cm. El primer jugador de las listas es portero y es bastante alto (191 cm).\n",
    "\n",
    "Estás bastante seguro de que la altura media de los porteros es más alta que la de otros jugadores en el campo de fútbol. Algunos de tus amigos no te creen, por lo que estás decidido a mostrárselos usando los datos que recibiste de FIFA y tus habilidades de Python recién adquiridas. ```heights``` y ```positions``` están disponibles como listas."
   ]
  },
  {
   "cell_type": "code",
   "execution_count": null,
   "metadata": {},
   "outputs": [],
   "source": [
    "# Import numpy\n",
    "import numpy as np\n",
    "\n",
    "# Convierte positions y heights en matrices numpy: np_positions, np_heights\n",
    "np_positions = np.array(positions)\n",
    "np_heights = np.array(heights)\n",
    "\n",
    "# Alturas de los porteros: gk_heights\n",
    "gk_heights = np_heights[np_positions == \"GK\"]\n",
    "\n",
    "# Alturas de los otros jugadores: other_heights\n",
    "other_heights = np_heights[np_positions != \"GK\"]\n",
    "\n",
    "# Imprime la altura mediana de los porteros. Reemplaza 'None'\n",
    "print(\"Median height of goalkeepers: \" + str(np.median(gk_heights)))\n",
    "\n",
    "# Imprime la altura mediana de los otros jugadores. Reemplaza 'None'\n",
    "print(\"Median height of other players: \" + str(np.median(other_heights)))"
   ]
  }
 ],
 "metadata": {
  "kernelspec": {
   "display_name": "Python 3",
   "language": "python",
   "name": "python3"
  },
  "language_info": {
   "codemirror_mode": {
    "name": "ipython",
    "version": 3
   },
   "file_extension": ".py",
   "mimetype": "text/x-python",
   "name": "python",
   "nbconvert_exporter": "python",
   "pygments_lexer": "ipython3",
   "version": "3.10.10"
  }
 },
 "nbformat": 4,
 "nbformat_minor": 2
}
