{
 "cells": [
  {
   "cell_type": "markdown",
   "metadata": {},
   "source": [
    "# ¿Qué tamaño de aguacate es el más popular?\n",
    "Los aguacates son cada vez más populares y deliciosos en guacamole y tostadas. La Junta de Aguacates Hass realiza un seguimiento de la oferta y la demanda de aguacates en los EE. UU., incluidas las ventas de tres tamaños diferentes de aguacate. En este ejercicio, utilizarás un diagrama de barras para averiguar qué tamaño es el más popular.\n",
    "\n",
    "Los gráficos de barras son excelentes para revelar las relaciones entre las variables categóricas (tamaño) y numéricas (cantidad vendida), pero a menudo primero tendrás que manipular los datos para obtener los números que se necesitan para graficar.\n",
    "\n",
    "pandas fue cargado como pd, y avocados está disponible."
   ]
  },
  {
   "cell_type": "code",
   "execution_count": null,
   "metadata": {},
   "outputs": [],
   "source": [
    "# Importa matplotlib.pyplot con el alias plt\n",
    "import matplotlib.pyplot as plt\n",
    "\n",
    "# Observa las primeras filas de datos\n",
    "print(avocados.head())\n",
    "\n",
    "# Obtén la cantidad total de aguacates en nb_sold para cada tamaño (size)\n",
    "nb_sold_by_size = avocados.groupby(\"size\")[\"nb_sold\"].sum()\n",
    "\n",
    "\n",
    "# Crea una gráfica de barras de la cantidad de aguacates vendidos por tamaño\n",
    "nb_sold_by_size.plot(kind = \"bar\", x = \"size\", y = \"nb_sold\")\n",
    "\n",
    "# Muestra la gráfica\n",
    "plt.show()"
   ]
  },
  {
   "cell_type": "markdown",
   "metadata": {},
   "source": [
    "```python\n",
    "         date          type  year  avg_price   size    nb_sold\n",
    "0  2015-12-27  conventional  2015       0.95  small  9.627e+06\n",
    "1  2015-12-20  conventional  2015       0.98  small  8.710e+06\n",
    "2  2015-12-13  conventional  2015       0.93  small  9.855e+06\n",
    "3  2015-12-06  conventional  2015       0.89  small  9.405e+06\n",
    "4  2015-11-29  conventional  2015       0.99  small  8.095e+06"
   ]
  },
  {
   "cell_type": "markdown",
   "metadata": {},
   "source": [
    "<img src=\"Images/1.png\" alt=\"Salida del código anterior\" width=\"500px\">"
   ]
  },
  {
   "cell_type": "markdown",
   "metadata": {},
   "source": [
    "# Cambios en las ventas a lo largo del tiempo\n",
    "Los gráficos de líneas sirven para visualizar la relación entre dos variables numéricas, donde cada valor de datos está conectado al siguiente. Son especialmente útiles para visualizar el cambio en un número a lo largo del tiempo, ya que cada punto temporal está conectado de forma natural al siguiente punto temporal. En este ejercicio, visualizarás el cambio en las ventas de aguacate a lo largo de tres años.\n",
    "\n",
    "pandas fue cargado como pd, y avocados está disponible."
   ]
  },
  {
   "cell_type": "code",
   "execution_count": null,
   "metadata": {},
   "outputs": [],
   "source": [
    "# Importa matplotlib.pyplot con el alias plt\n",
    "import matplotlib.pyplot as plt\n",
    "\n",
    "# Obtén la cantidad total de aguacates vendidos en cada fecha\n",
    "nb_sold_by_date = avocados.groupby(\"date\")[\"nb_sold\"].sum()\n",
    "\n",
    "# Crea una gráfica de líneas de nb_sold por date\n",
    "nb_sold_by_date.plot(kind = \"line\", x = \"date\", y = \"nb_sold\")\n",
    "\n",
    "# Muestra la gráfica\n",
    "plt.show()"
   ]
  },
  {
   "cell_type": "markdown",
   "metadata": {},
   "source": [
    "<img src=\"Images/2.svg\" alt=\"Salida del código anterior\" width=\"500px\">"
   ]
  },
  {
   "cell_type": "markdown",
   "metadata": {},
   "source": [
    "# Oferta y demanda de aguacate\n",
    "Los gráficos de dispersión son ideales para visualizar las relaciones entre variables numéricas. En este ejercicio, compararás la cantidad de aguacates vendidos con el precio promedio y comprobarás si tienen alguna relación. Si están relacionados, es posible que puedas usar un número para predecir el otro.\n",
    "\n",
    "matplotlib.pyplot se ha importado como plt, pandas fue cargado como pd y avocados está disponible."
   ]
  },
  {
   "cell_type": "code",
   "execution_count": null,
   "metadata": {},
   "outputs": [],
   "source": [
    "# Gráfico de dispersión de avg_price vs nb_sold con título\n",
    "avocados.plot(kind = \"scatter\", x = \"nb_sold\", y = \"avg_price\", title = \"Number of avocados sold vs. average price\")\n",
    "\n",
    "# Muestra la gráfica\n",
    "plt.show()"
   ]
  },
  {
   "cell_type": "markdown",
   "metadata": {},
   "source": [
    "<img src=\"Images/3.svg\" alt=\"Salida del código anterior\" width=\"500px\">"
   ]
  },
  {
   "cell_type": "markdown",
   "metadata": {},
   "source": [
    "# Precio de los aguacates convencionales vs. orgánicos\n",
    "Crear varias gráficas para diferentes subconjuntos de datos nos permite comparar grupos. En este ejercicio, crearás varios histogramas para comparar los precios de los aguacates convencionales y orgánicos.\n",
    "\n",
    "matplotlib.pyplot se ha importado como plt y pandas fue cargado como pd."
   ]
  },
  {
   "cell_type": "code",
   "execution_count": null,
   "metadata": {},
   "outputs": [],
   "source": [
    "# Histograma de avg_price y conventional \n",
    "avocados[avocados[\"type\"] == \"conventional\"][\"avg_price\"].hist()\n",
    "\n",
    "# Histograma de avg_price y organic\n",
    "avocados[avocados[\"type\"] == \"organic\"][\"avg_price\"].hist()\n",
    "\n",
    "# Añade una leyenda\n",
    "plt.legend ([\"Conventional\", \"Organic\"])\n",
    "\n",
    "# Muestra la gráfica\n",
    "plt.show()"
   ]
  },
  {
   "cell_type": "markdown",
   "metadata": {},
   "source": [
    "<img src=\"Images/4.svg\" alt=\"Salida del código anterior\" width=\"500px\">"
   ]
  },
  {
   "cell_type": "code",
   "execution_count": null,
   "metadata": {},
   "outputs": [],
   "source": [
    "# Modifica la transparencia del histograma a 0.5 \n",
    "avocados[avocados[\"type\"] == \"conventional\"][\"avg_price\"].hist(alpha = 0.5)#alpha para mayor transparencia \n",
    "\n",
    "# Modifica la transparencia del histograma a 0.5\n",
    "avocados[avocados[\"type\"] == \"organic\"][\"avg_price\"].hist(alpha = 0.5)\n",
    "\n",
    "# Añade una leyenda\n",
    "plt.legend([\"conventional\", \"organic\"])\n",
    "\n",
    "# Muestra la gráfica\n",
    "plt.show()"
   ]
  },
  {
   "cell_type": "markdown",
   "metadata": {},
   "source": [
    "<img src=\"Images/5.svg\" alt=\"Salida del código anterior\" width=\"500px\">"
   ]
  },
  {
   "cell_type": "code",
   "execution_count": null,
   "metadata": {},
   "outputs": [],
   "source": [
    "# Modifica a 20 intervalos\n",
    "avocados[avocados[\"type\"] == \"conventional\"][\"avg_price\"].hist(alpha=0.5, bins = 20)\n",
    "\n",
    "# Modifica a 20 intervalos\n",
    "avocados[avocados[\"type\"] == \"organic\"][\"avg_price\"].hist(alpha=0.5, bins = 20)\n",
    "\n",
    "# Añade una leyenda\n",
    "plt.legend([\"conventional\", \"organic\"])\n",
    "\n",
    "# Muestra la gráfica\n",
    "plt.show()"
   ]
  },
  {
   "cell_type": "markdown",
   "metadata": {},
   "source": [
    "<img src=\"Images/6.svg\" alt=\"Salida del código anterior\" width=\"500px\">"
   ]
  },
  {
   "cell_type": "markdown",
   "metadata": {},
   "source": [
    "# Buscando valores faltantes\n",
    "Los valores que faltan están en todas partes y no querrás que interfieran con tu trabajo. Algunas funciones ignoran los datos que faltan de forma predeterminada, pero ese no es siempre el comportamiento deseado. Algunas funciones no pueden aceptar valores faltantes, por lo que es necesario resolver el tema antes de poder usarlas. Si no sabes dónde están los valores faltantes, o si existen, podrías cometer errores en el análisis. En este ejercicio, determinarás si faltan valores en el set de datos y, de ser así, cuántos.\n",
    "\n",
    "`pandas` fue cargado como `pd` y `avocados_2016`, un subconjunto de `avocados` que contiene solo las ventas de 2016, está disponible."
   ]
  },
  {
   "cell_type": "code",
   "execution_count": null,
   "metadata": {},
   "outputs": [],
   "source": []
  },
  {
   "cell_type": "markdown",
   "metadata": {},
   "source": [
    "```python\n",
    "     date  avg_price  total_sold  small_sold  large_sold  xl_sold  total_bags_sold  small_bags_sold  large_bags_sold  xl_bags_sold\n",
    "0   False      False       False       False       False    False            False            False            False         False\n",
    "1   False      False       False       False       False    False            False            False            False         False\n",
    "2   False      False       False       False        True    False            False            False            False         False\n",
    "3   False      False       False       False       False    False            False            False            False         False\n",
    "4   False      False       False       False       False     True            False            False            False         False\n",
    "5   False      False       False        True       False    False            False            False            False         False\n",
    "6   False      False       False       False       False    False            False            False            False         False\n",
    "7   False      False       False       False        True    False            False            False            False         False\n",
    "8   False      False       False       False       False    False            False            False            False         False\n",
    "9   False      False       False       False       False    False            False            False            False         False\n",
    "10  False      False       False       False        True    False            False            False            False         False\n",
    "11  False      False       False       False       False    False            False            False            False         False\n",
    "12  False      False       False       False       False    False            False            False            False         False\n",
    "13  False      False       False       False       False    False            False            False            False         False\n",
    "14  False      False       False       False       False    False            False            False            False         False\n",
    "15  False      False       False       False        True    False            False            False            False         False\n",
    "16  False      False       False       False       False     True            False            False            False         False\n",
    "17  False      False       False       False       False    False            False            False            False         False\n",
    "18  False      False       False       False       False    False            False            False            False         False\n",
    "19  False      False       False       False        True    False            False            False            False         False\n",
    "20  False      False       False       False       False    False            False            False            False         False\n",
    "21  False      False       False       False       False    False            False            False            False         False\n",
    "22  False      False       False       False       False    False            False            False            False         False\n",
    "23  False      False       False       False       False    False            False            False            False         False\n",
    "24  False      False       False       False       False    False            False            False            False         False\n",
    "25  False      False       False       False       False    False            False            False            False         False\n",
    "26  False      False       False       False       False    False            False            False            False         False\n",
    "27  False      False       False       False       False    False            False            False            False         False\n",
    "28  False      False       False       False       False    False            False            False            False         False\n",
    "29  False      False       False       False       False    False            False            False            False         False\n",
    "30  False      False       False       False       False     True            False            False            False         False\n",
    "31  False      False       False       False       False    False            False            False            False         False\n",
    "32  False      False       False       False       False     True            False            False            False         False\n",
    "33  False      False       False       False       False    False            False            False            False         False\n",
    "34  False      False       False       False       False    False            False            False            False         False\n",
    "35  False      False       False       False       False    False            False            False            False         False\n",
    "36  False      False       False        True       False    False            False            False            False         False\n",
    "37  False      False       False       False        True    False            False            False            False         False\n",
    "38  False      False       False       False       False    False            False            False            False         False\n",
    "39  False      False       False       False       False    False            False            False            False         False\n",
    "40  False      False       False        True       False    False            False            False            False         False\n",
    "41  False      False       False       False       False    False            False            False            False         False\n",
    "42  False      False       False       False       False    False            False            False            False         False\n",
    "43  False      False       False       False       False    False            False            False            False         False\n",
    "44  False      False       False        True       False    False            False            False            False         False\n",
    "45  False      False       False       False       False    False            False            False            False         False\n",
    "46  False      False       False       False       False    False            False            False            False         False\n",
    "47  False      False       False       False       False    False            False            False            False         False\n",
    "48  False      False       False       False       False    False            False            False            False         False\n",
    "49  False      False       False       False       False    False            False            False            False         False\n",
    "50  False      False       False        True       False    False            False            False            False         False\n",
    "51  False      False       False        True       False    False            False            False            False         False\n",
    "\n",
    "\n",
    "\n",
    "date               False\n",
    "avg_price          False\n",
    "total_sold         False\n",
    "small_sold          True\n",
    "large_sold          True\n",
    "xl_sold             True\n",
    "total_bags_sold    False\n",
    "small_bags_sold    False\n",
    "large_bags_sold    False\n",
    "xl_bags_sold       False\n",
    "dtype: bool"
   ]
  },
  {
   "cell_type": "markdown",
   "metadata": {},
   "source": [
    "<img src=\"Images/7.svg\" alt=\"Salida del código anterior\" width=\"500px\">"
   ]
  },
  {
   "cell_type": "markdown",
   "metadata": {},
   "source": [
    "# Eliminando valores faltantes\n",
    "Ahora que sabes que faltan algunos valores en el DataFrame, tienes varias opciones para solucionarlos. Una forma es eliminarlos por completo del set de datos. En este ejercicio, eliminarás los valores que faltan quitando todas las filas que contienen valores faltantes.\n",
    "\n",
    "pandas fue cargado como pd y avocados_2016 está disponible."
   ]
  },
  {
   "cell_type": "code",
   "execution_count": null,
   "metadata": {},
   "outputs": [],
   "source": [
    "# Elimina las filas con valores faltantes\n",
    "avocados_complete = avocados_2016.dropna()\n",
    "\n",
    "# Comprueba si alguna columna contiene valores faltantes\n",
    "print(avocados_complete.isna().any())"
   ]
  },
  {
   "cell_type": "markdown",
   "metadata": {},
   "source": [
    "```python\n",
    "date               False\n",
    "avg_price          False\n",
    "total_sold         False\n",
    "small_sold         False\n",
    "large_sold         False\n",
    "xl_sold            False\n",
    "total_bags_sold    False\n",
    "small_bags_sold    False\n",
    "large_bags_sold    False\n",
    "xl_bags_sold       False\n",
    "dtype: bool"
   ]
  },
  {
   "cell_type": "markdown",
   "metadata": {},
   "source": [
    "# Sustituyendo valores faltantes\n",
    "Otra forma de manejar los valores faltantes es reemplazarlos todos por el mismo valor. Para las variables numéricas, una opción es reemplazar los valores por 0; lo haremos aquí. Sin embargo, cuando reemplazamos los valores faltantes, estamos haciendo suposiciones sobre lo que significa un valor faltante. En este caso, supondremos que la falta de un número vendido significa que esa semana no se realizó ninguna venta de ese tipo de aguacate.\n",
    "\n",
    "En este ejercicio, verás cómo reemplazar los valores faltantes puede afectar la distribución de una variable mediante histogramas. Podemos crear histogramas para varias variables a la vez de la siguiente manera:\n",
    "\n",
    "`dogs[[\"height_cm\", \"weight_kg\"]].hist()`\n",
    "\n",
    "`pandas` fue cargado como `pd` y `matplotlib.pyplot` se importó como `plt`. El set de datos `avocados_2016` está disponible."
   ]
  },
  {
   "cell_type": "code",
   "execution_count": null,
   "metadata": {},
   "outputs": [],
   "source": [
    "# Lista de las columnas con valores faltantes\n",
    "cols_with_missing = [\"small_sold\", \"large_sold\", \"xl_sold\"]\n",
    "\n",
    "# Crea histogramas que muestren las distribuciones de cols_with_missing\n",
    "avocados_2016[cols_with_missing].hist()\n",
    "\n",
    "# Muestra la gráfica\n",
    "plt.show()"
   ]
  },
  {
   "cell_type": "markdown",
   "metadata": {},
   "source": [
    "<img src=\"Images/8.svg\" alt=\"Salida del código anterior\" width=\"500px\">"
   ]
  },
  {
   "cell_type": "code",
   "execution_count": null,
   "metadata": {},
   "outputs": [],
   "source": [
    "# Rellena los valores faltantes con 0\n",
    "avocados_filled = avocados_2016.fillna(0)\n",
    "\n",
    "# Crea histogramas de las columnas rellenadas\n",
    "avocados_filled[cols_with_missing].hist()\n",
    "\n",
    "# Muestra la gráfica\n",
    "plt.show()"
   ]
  },
  {
   "cell_type": "markdown",
   "metadata": {},
   "source": [
    "<img src=\"Images/9.svg\" alt=\"Salida del código anterior\" width=\"500px\">"
   ]
  },
  {
   "cell_type": "markdown",
   "metadata": {},
   "source": [
    "# Lista de diccionarios\n",
    "Hace poco recibiste algunos datos nuevos sobre aguacates de 2019 que te gustaría poner en un DataFrame utilizando el método de lista de diccionarios. Recuerda que con este método, recorres los datos fila por fila.\n",
    "\n",
    "|date|small_sold|large_sold|\n",
    "|----|----------|----------|\n",
    "|\"2019-11-03\"|10376832|7835071|\n",
    "|\"2019-11-10\"|10717154|8561348|"
   ]
  },
  {
   "cell_type": "code",
   "execution_count": 2,
   "metadata": {},
   "outputs": [],
   "source": [
    "import pandas as pd"
   ]
  },
  {
   "cell_type": "code",
   "execution_count": 3,
   "metadata": {},
   "outputs": [
    {
     "name": "stdout",
     "output_type": "stream",
     "text": [
      "         date  small_sold  large_sold\n",
      "0  2019-11-03    10376832     7835071\n",
      "1  2019-11-10    10717154     8561348\n"
     ]
    }
   ],
   "source": [
    "# Crea una lista de diccionarios con los datos nuevos\n",
    "avocados_list = [\n",
    "    {\"date\": \"2019-11-03\", \"small_sold\": 10376832, \"large_sold\": 7835071},\n",
    "    {\"date\": \"2019-11-10\", \"small_sold\": 10717154, \"large_sold\": 8561348},\n",
    "]\n",
    "\n",
    "# Convierte la lista en DataFrame\n",
    "avocados_2019 = pd.DataFrame(avocados_list)\n",
    "\n",
    "# Imprime el nuevo DataFrame\n",
    "print(avocados_2019)"
   ]
  },
  {
   "cell_type": "markdown",
   "metadata": {},
   "source": [
    "# Diccionario de listas\n",
    "¡Acaban de llegar algunos datos más! Esta vez, utilizarás el método del diccionario de listas, analizando los datos columna por columna.\n",
    "\n",
    "|date|small_sold|large_sold|\n",
    "|----|----------|----------|\n",
    "|\"2019-11-17\"|10859987|9291631|\n",
    "|\"2019-12-01\"|7674135|6238096|"
   ]
  },
  {
   "cell_type": "code",
   "execution_count": 4,
   "metadata": {},
   "outputs": [
    {
     "name": "stdout",
     "output_type": "stream",
     "text": [
      "         date  small_sold  large_sold\n",
      "0  2019-11-17    10859987     7674135\n",
      "1  2019-12-01     9291631     6238096\n"
     ]
    }
   ],
   "source": [
    "# Crea un diccionario de listas con los datos nuevos\n",
    "avocados_dict = {\n",
    "  \"date\": [\"2019-11-17\", \"2019-12-01\"],\n",
    "  \"small_sold\": [10859987, 9291631],\n",
    "  \"large_sold\": [7674135, 6238096]\n",
    "}\n",
    "\n",
    "# Convierte el diccionario en DataFrame\n",
    "avocados_2019 = pd.DataFrame(avocados_dict)\n",
    "\n",
    "# Imprime el nuevo DataFrame\n",
    "print(avocados_2019)"
   ]
  },
  {
   "cell_type": "markdown",
   "metadata": {},
   "source": [
    "# CSV a DataFrame\n",
    "Trabajas para una aerolínea y tu gerente te ha pedido que hagas un análisis de la competencia y veas con qué frecuencia a los pasajeros que vuelan en otras compañías aéreas les han cancelado involuntariamente sus vuelos. Recibiste un archivo CSV `(airline_bumping.csv)` del Departamento de Transporte que contiene datos sobre los pasajeros a los que se les negó el embarque involuntariamente en 2016 y 2017, pero no contiene los números exactos que deseas. Para averiguarlo, ¡necesitarás introducir el CSV en un DataFrame de pandas y hacer algunas manipulaciones!"
   ]
  },
  {
   "cell_type": "code",
   "execution_count": null,
   "metadata": {},
   "outputs": [],
   "source": [
    "# Carga el CSV como un DataFrame llamado airline_bumping\n",
    "airline_bumping = pd.read_csv(\"airline_bumping.csv\")\n",
    "\n",
    "# Echa un vistazo al DataFrame\n",
    "print(airline_bumping.head())"
   ]
  },
  {
   "cell_type": "markdown",
   "metadata": {},
   "source": [
    "```python\n",
    "             airline  year  nb_bumped  total_passengers\n",
    "0    DELTA AIR LINES  2017        679          99796155\n",
    "1     VIRGIN AMERICA  2017        165           6090029\n",
    "2    JETBLUE AIRWAYS  2017       1475          27255038\n",
    "3    UNITED AIRLINES  2017       2067          70030765\n",
    "4  HAWAIIAN AIRLINES  2017         92           8422734"
   ]
  },
  {
   "cell_type": "code",
   "execution_count": null,
   "metadata": {},
   "outputs": [],
   "source": [
    "# De los pasos anteriores\n",
    "airline_bumping = pd.read_csv(\"airline_bumping.csv\")\n",
    "print(airline_bumping.head())\n",
    "airline_totals = airline_bumping.groupby(\"airline\")[[\"nb_bumped\", \"total_passengers\"]].sum()\n",
    "airline_totals [\"bumps_per_10k\"] = airline_totals [\"nb_bumped\"]/airline_totals [\"total_passengers\"] * 10000\n",
    "\n",
    "# Imprimir airline_totals\n",
    "print(airline_totals)"
   ]
  },
  {
   "cell_type": "markdown",
   "metadata": {},
   "source": [
    "```python\n",
    "             airline  year  nb_bumped  total_passengers\n",
    "0    DELTA AIR LINES  2017        679          99796155\n",
    "1     VIRGIN AMERICA  2017        165           6090029\n",
    "2    JETBLUE AIRWAYS  2017       1475          27255038\n",
    "3    UNITED AIRLINES  2017       2067          70030765\n",
    "4  HAWAIIAN AIRLINES  2017         92           8422734\n",
    "\n",
    "\n",
    "\n",
    "                     nb_bumped  total_passengers  bumps_per_10k\n",
    "airline                                                        \n",
    "ALASKA AIRLINES           1392          36543121          0.381\n",
    "AMERICAN AIRLINES        11115         197365225          0.563\n",
    "DELTA AIR LINES           1591         197033215          0.081\n",
    "EXPRESSJET AIRLINES       3326          27858678          1.194\n",
    "FRONTIER AIRLINES         1228          22954995          0.535\n",
    "HAWAIIAN AIRLINES          122          16577572          0.074\n",
    "JETBLUE AIRWAYS           3615          53245866          0.679\n",
    "SKYWEST AIRLINES          3094          47091737          0.657\n",
    "SOUTHWEST AIRLINES       18585         228142036          0.815\n",
    "SPIRIT AIRLINES           2920          32304571          0.904\n",
    "UNITED AIRLINES           4941         134468897          0.367\n",
    "VIRGIN AMERICA             242          12017967          0.201"
   ]
  },
  {
   "cell_type": "markdown",
   "metadata": {},
   "source": [
    "# DataFrame a CSV\n",
    "¡Ya casi estás allí! Para facilitar su lectura, tendrás que ordenar los datos y exportarlos a CSV para que tus colegas puedan leerlos."
   ]
  },
  {
   "cell_type": "code",
   "execution_count": null,
   "metadata": {},
   "outputs": [],
   "source": [
    "# Crea airline_totals_sorted\n",
    "airline_totals_sorted = airline_totals.sort_values(\"bumps_per_10k\", ascending = False)\n",
    "\n",
    "# Imprime airline_totals_sorted\n",
    "print(airline_totals_sorted)\n",
    "\n",
    "# Guarda como airline_totals_sorted.csv\n",
    "airline_totals_sorted.to_csv(\"airline_totals_sorted.csv\")"
   ]
  },
  {
   "cell_type": "markdown",
   "metadata": {},
   "source": [
    "```python\n",
    "                    nb_bumped  total_passengers  bumps_per_10k\n",
    "airline                                                        \n",
    "EXPRESSJET AIRLINES       3326          27858678          1.194\n",
    "SPIRIT AIRLINES           2920          32304571          0.904\n",
    "SOUTHWEST AIRLINES       18585         228142036          0.815\n",
    "JETBLUE AIRWAYS           3615          53245866          0.679\n",
    "SKYWEST AIRLINES          3094          47091737          0.657\n",
    "AMERICAN AIRLINES        11115         197365225          0.563\n",
    "FRONTIER AIRLINES         1228          22954995          0.535\n",
    "ALASKA AIRLINES           1392          36543121          0.381\n",
    "UNITED AIRLINES           4941         134468897          0.367\n",
    "VIRGIN AMERICA             242          12017967          0.201\n",
    "DELTA AIR LINES           1591         197033215          0.081\n",
    "HAWAIIAN AIRLINES          122          16577572          0.074"
   ]
  },
  {
   "cell_type": "code",
   "execution_count": 9,
   "metadata": {},
   "outputs": [
    {
     "name": "stdout",
     "output_type": "stream",
     "text": [
      "                                         school_name    borough building_code   \n",
      "0  New Explorations into Science, Technology and ...  Manhattan          M022  \\\n",
      "1                               Essex Street Academy  Manhattan          M445   \n",
      "2                       Lower Manhattan Arts Academy  Manhattan          M445   \n",
      "3    High School for Dual Language and Asian Studies  Manhattan          M445   \n",
      "4      Henry Street School for International Studies  Manhattan          M056   \n",
      "\n",
      "   average_math  average_reading  average_writing  percent_tested  total_SAT  \n",
      "0           657              601              601             NaN        NaN  \n",
      "1           395              411              387            78.9        NaN  \n",
      "2           418              428              415            65.1        NaN  \n",
      "3           613              453              463            95.9        NaN  \n",
      "4           410              406              381            59.7        NaN  \n"
     ]
    }
   ],
   "source": [
    "import pandas as pd\n",
    "\n",
    "# Creando el DataFrame con los datos proporcionados\n",
    "data = {\n",
    "    'school_name': [\n",
    "        \"New Explorations into Science, Technology and Math High School\",\n",
    "        \"Essex Street Academy\",\n",
    "        \"Lower Manhattan Arts Academy\",\n",
    "        \"High School for Dual Language and Asian Studies\",\n",
    "        \"Henry Street School for International Studies\"\n",
    "    ],\n",
    "    'borough': [\"Manhattan\"] * 5,\n",
    "    'building_code': ['M022', 'M445', 'M445', 'M445', 'M056'],\n",
    "    'average_math': [657, 395, 418, 613, 410],\n",
    "    'average_reading': [601, 411, 428, 453, 406],\n",
    "    'average_writing': [601, 387, 415, 463, 381],\n",
    "    'percent_tested': [None, 78.9, 65.1, 95.9, 59.7]\n",
    "}\n",
    "\n",
    "df = pd.DataFrame(data)\n",
    "\n",
    "# Filtrar las escuelas con una puntuación en matemáticas de al menos el 80% de 800\n",
    "threshold = 800 * 0.8\n",
    "filtered_schools = df[df['average_math'] >= threshold].sort_values(by='average_math', ascending=False)\n",
    "\n",
    "# Crear un nuevo DataFrame con solo las columnas 'school_name' y 'average_math'\n",
    "best_math_schools = filtered_schools[['school_name', 'average_math']]\n",
    "\n",
    "df[\"total_SAT\"] = df[[\"average_math\", \"average_reading\", \"average_writing\"]].mean()\n",
    "\n",
    "# Mostrar el resultado\n",
    "print(df)"
   ]
  },
  {
   "cell_type": "code",
   "execution_count": 1,
   "metadata": {},
   "outputs": [
    {
     "name": "stdout",
     "output_type": "stream",
     "text": [
      "False\n"
     ]
    }
   ],
   "source": [
    "x = 11 \n",
    "print(x > 5 and x < 10)"
   ]
  },
  {
   "cell_type": "code",
   "execution_count": 2,
   "metadata": {},
   "outputs": [
    {
     "data": {
      "text/html": [
       "<div>\n",
       "<style scoped>\n",
       "    .dataframe tbody tr th:only-of-type {\n",
       "        vertical-align: middle;\n",
       "    }\n",
       "\n",
       "    .dataframe tbody tr th {\n",
       "        vertical-align: top;\n",
       "    }\n",
       "\n",
       "    .dataframe thead th {\n",
       "        text-align: right;\n",
       "    }\n",
       "</style>\n",
       "<table border=\"1\" class=\"dataframe\">\n",
       "  <thead>\n",
       "    <tr style=\"text-align: right;\">\n",
       "      <th></th>\n",
       "      <th>product</th>\n",
       "      <th>month</th>\n",
       "      <th>sold</th>\n",
       "    </tr>\n",
       "  </thead>\n",
       "  <tbody>\n",
       "    <tr>\n",
       "      <th>1</th>\n",
       "      <td>A</td>\n",
       "      <td>Feb</td>\n",
       "      <td>200</td>\n",
       "    </tr>\n",
       "    <tr>\n",
       "      <th>2</th>\n",
       "      <td>A</td>\n",
       "      <td>Mar</td>\n",
       "      <td>180</td>\n",
       "    </tr>\n",
       "    <tr>\n",
       "      <th>3</th>\n",
       "      <td>B</td>\n",
       "      <td>Jan</td>\n",
       "      <td>90</td>\n",
       "    </tr>\n",
       "    <tr>\n",
       "      <th>4</th>\n",
       "      <td>B</td>\n",
       "      <td>Feb</td>\n",
       "      <td>80</td>\n",
       "    </tr>\n",
       "    <tr>\n",
       "      <th>5</th>\n",
       "      <td>B</td>\n",
       "      <td>Mar</td>\n",
       "      <td>130</td>\n",
       "    </tr>\n",
       "  </tbody>\n",
       "</table>\n",
       "</div>"
      ],
      "text/plain": [
       "  product month  sold\n",
       "1       A   Feb   200\n",
       "2       A   Mar   180\n",
       "3       B   Jan    90\n",
       "4       B   Feb    80\n",
       "5       B   Mar   130"
      ]
     },
     "execution_count": 2,
     "metadata": {},
     "output_type": "execute_result"
    }
   ],
   "source": [
    "import numpy as np\n",
    "import pandas as pd\n",
    "\n",
    "# Crear datos para el DataFrame\n",
    "data = {\n",
    "    'product': ['A', 'A', 'A', 'B', 'B', 'B'],\n",
    "    'month': ['Jan', 'Feb', 'Mar', 'Jan', 'Feb', 'Mar'],\n",
    "    'sold': [85, 200, 180, 90, 80, 130]\n",
    "}\n",
    "\n",
    "# Crear el DataFrame\n",
    "sales = pd.DataFrame(data)\n",
    "\n",
    "\n",
    "pick = np.logical_or(sales['product'] == 'B',sales[\"sold\"] > 100)\n",
    "sales[pick]"
   ]
  }
 ],
 "metadata": {
  "kernelspec": {
   "display_name": "Python 3",
   "language": "python",
   "name": "python3"
  },
  "language_info": {
   "codemirror_mode": {
    "name": "ipython",
    "version": 3
   },
   "file_extension": ".py",
   "mimetype": "text/x-python",
   "name": "python",
   "nbconvert_exporter": "python",
   "pygments_lexer": "ipython3",
   "version": "3.10.10"
  }
 },
 "nbformat": 4,
 "nbformat_minor": 2
}
